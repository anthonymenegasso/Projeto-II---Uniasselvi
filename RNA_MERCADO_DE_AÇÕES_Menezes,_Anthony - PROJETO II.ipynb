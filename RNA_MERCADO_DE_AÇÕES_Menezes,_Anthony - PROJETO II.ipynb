{
  "nbformat": 4,
  "nbformat_minor": 0,
  "metadata": {
    "colab": {
      "name": "RNA_MERCADO_DE_AÇÕES_Menezes,_Anthony.ipynb",
      "provenance": [],
      "collapsed_sections": []
    },
    "kernelspec": {
      "name": "python3",
      "display_name": "Python 3"
    },
    "language_info": {
      "name": "python"
    }
  },
  "cells": [
    {
      "cell_type": "markdown",
      "source": [
        "# ETAPA I"
      ],
      "metadata": {
        "id": "DX04SKuzDfsC"
      }
    },
    {
      "cell_type": "markdown",
      "source": [
        "*   Nome: Anthony César Menegasso Menezes\n",
        "*   Matrícula: 2482837"
      ],
      "metadata": {
        "id": "-GZQDAkEaXVl"
      }
    },
    {
      "cell_type": "markdown",
      "source": [
        "## DEFINIÇÃO DO TEMA"
      ],
      "metadata": {
        "id": "c7xZ6dUEDkWw"
      }
    },
    {
      "cell_type": "markdown",
      "source": [
        "Como muito bem resumido no portal do investidor: Ação é a menor parcela do capital social das companhias ou sociedades anônimas. É, portanto, um título patrimonial e, como tal, concede aos seus titulares, os acionistas, todos os direitos e deveres de um sócio, no limite das ações possuídas. Entretanto, estas ações, negociadas nas bolsas de valores ao redor do mundo fazem parte da chamada renda variável, ou seja, seu valor esta submetido a variações ao longo do tempo.\n",
        "\n",
        "Os desafios na tratativa deste tema são muitas. Como as ações estão ligadas diretamente às empresas que por sua vez estão ligadas ao cenário global uma abordagem simplista pode nos trazer valores/previsões errôneas. A situação atual, a evolução ao longo do tempo, o histórico de dividendos e a própria reputação da empresa são exemplos de variáveis que podem vir a influenciar a cotação de determinada ação. Neste projeto, o foco será a análise de valores quantitativos, como os preços mínimos, fechamento e máximos ao longo da vida da empresa escolhida, logo, informações qualitativas das bases de dados deverão ser processadas e desconsideradas da análise neste momento."
      ],
      "metadata": {
        "id": "XJoF54i9Duzo"
      }
    },
    {
      "cell_type": "markdown",
      "source": [
        "## OBJETIVO E ESPECIFICAÇÕES TÉCNICAS"
      ],
      "metadata": {
        "id": "Vk6Pp9PoDkPr"
      }
    },
    {
      "cell_type": "markdown",
      "source": [
        "A partir de dados históricos sobre os preços e variações de determinada ação, busca-se modelar uma rede neural artificial do tipo LSTM que possa tentar prever qual os valores a serem alcançados num determinado número de dias subsequentes. \n",
        "Para que isso seja possível, são várias as considerações, dado que uma regressão linear simples por exemplo não consideraria todos os nuances que envolvem a variação nos preços; Explicações mais específicas acerca da lógica que o código se baseeou podem ser encontradas no pdf disponível no github.\n",
        "\n",
        "Algumas observações sobre os tipos de dados utilizados são:\n",
        "\n",
        "1. Campos da base de dados:\n",
        "\n",
        "  1.1 date: data do valor em questão (é o índice)\t\n",
        "\n",
        "  1.2 close: valor de fechamento numa data específica\n",
        "\n",
        "  1.3 high: valor máximo alcançado numa data específica\n",
        "\n",
        "  1.4 low: valor minimo alcançado numa data específica\n",
        "\n",
        "  1.5 open: valor de abertura numa data específica\n",
        "\n",
        "\n",
        "2. Metódo de machine learning utilizado\n",
        "\n",
        "Como muito bem resumido na Wikepedia a memória de longo prazo (LSTM) é uma rede neural artificial usada nas áreas de inteligência artificial e aprendizado profundo. Ao contrário das redes neurais feedforward padrão, o LSTM possui conexões de feedback. Essa rede neural recorrente pode processar não apenas pontos de dados únicos (como imagens), mas também sequências inteiras de dados (como fala ou vídeo). Neste projeto, essa funcionalidade de \"feedback\" será utilizada para considerar valores em períodos anteriores na analise.\n",
        "\n",
        "\n",
        "3. Divisão da base\n",
        "\n",
        "A base de dados nesse projeto terá 3 partes principais, sendo elas:\n",
        "\n",
        "1. Parcela de treinamento (70% dos valores que foram carregados)\n",
        "2. Parcela de validação (30% dos valores que foram carregados)\n",
        "3. Parcela da previsão (30 dias além da última data disponível na base)\n",
        "\n",
        "\n",
        "4. Métricas\n",
        "\n",
        "Além da comparação gráfica dos outputs que serão o principal feedback do desempenho do modelo será utilizado o Erro quadrático médio, que medirá a média dos quadrados dos erros, ou seja, a diferença média quadrática entre os valores estimados e o valor real.\n",
        "\n",
        "\n",
        "\n",
        "\n"
      ],
      "metadata": {
        "id": "trvuIJQ6D3dY"
      }
    },
    {
      "cell_type": "markdown",
      "source": [
        "# ETAPA II"
      ],
      "metadata": {
        "id": "BNKMLs-gD-uZ"
      }
    },
    {
      "cell_type": "markdown",
      "source": [
        "## BIBLIOTECAS A SEREM UTILIZADAS"
      ],
      "metadata": {
        "id": "HRfStqv7FJ-V"
      }
    },
    {
      "cell_type": "code",
      "source": [
        "#Importação das bibliotecas a serem utilizadas na análise\n",
        "import matplotlib.pyplot as plt\n",
        "import pandas_datareader as pdr\n",
        "import pandas as pd\n",
        "import numpy as np\n",
        "import tensorflow as tf"
      ],
      "metadata": {
        "id": "9vA1oPbUFQ2x"
      },
      "execution_count": null,
      "outputs": []
    },
    {
      "cell_type": "markdown",
      "source": [
        "##CONEXÃO COM O DATASET\n"
      ],
      "metadata": {
        "id": "wH1XV66GEH9x"
      }
    },
    {
      "cell_type": "markdown",
      "source": [
        "Para o upload do dataset a ser utilizado para treinar o modelo e nos fornecer os dados para a predição existem duas opções:\n",
        "1. Baixar um arquivo .csv com o histórico necessário. Para esta opção recomenda-se o site do \"Yahoo finanças\": https://finance.yahoo.com/quote/MMM/history?p=MMM\n",
        "2. Automatizar esse processo de obtenção dos dados partir de uma API, garantido que sempre se está trabalhando com os dados mais atualizados. Para essa opção a fonte proposta é o site \"Tiingo Stock Market Tools\": https://www.tiingo.com/mmm/overview\n",
        "\n",
        "Para este trabalho, se optou por utilizar a opção número 2."
      ],
      "metadata": {
        "id": "kNPdJjAvFYSZ"
      }
    },
    {
      "cell_type": "markdown",
      "source": [
        "Ao se cadastrar no site Tiingo, ele disponibilizará uma chave de autenticação para download dos dados. Por questões de privacidade e segurança minha chave pessoal não estará listada abaixo.Entretanto, para utilização do modelo de predição, basta substituir:\n",
        "1. O texto entre \" \" pela chave fornecida no site.\n",
        "2. O código da ação entre ' ' pela que se deseja analisar."
      ],
      "metadata": {
        "id": "OAsEf02ZIPhy"
      }
    },
    {
      "cell_type": "code",
      "source": [
        "#A empresa escolhida para essa análise foi a 3M, de código MMM. Qualquer outra poderia ter sido escolhida.\n",
        "key=\"ADICIONE A KEY\"\n",
        "df = pdr.get_data_tiingo('MMM', api_key=key)"
      ],
      "metadata": {
        "colab": {
          "base_uri": "https://localhost:8080/"
        },
        "id": "PQ39lUvuFB7x",
        "outputId": "951e0d66-ea5e-4829-b15c-6126dc8a5ce9"
      },
      "execution_count": null,
      "outputs": [
        {
          "output_type": "stream",
          "name": "stderr",
          "text": [
            "/usr/local/lib/python3.7/dist-packages/pandas_datareader/tiingo.py:234: FutureWarning: In a future version of pandas all arguments of concat except for the argument 'objs' will be keyword-only\n",
            "  return pd.concat(dfs, self._concat_axis)\n"
          ]
        }
      ]
    },
    {
      "cell_type": "code",
      "source": [
        "#Aqui estamos transformando a base de dados do formato csv para um pandas dataframe\n",
        "df.to_csv('MMM.csv')\n",
        "df=pd.read_csv('MMM.csv')"
      ],
      "metadata": {
        "id": "L6GR2QFFFBvq"
      },
      "execution_count": null,
      "outputs": []
    },
    {
      "cell_type": "markdown",
      "source": [
        "##EXIBIÇÃO DE TRECHOS NOS DADOS"
      ],
      "metadata": {
        "id": "JZNkHxmaER2g"
      }
    },
    {
      "cell_type": "markdown",
      "source": [
        "Nesta etapa iremos garantir se o dataframes da ação desejada foi carregada de forma correta com as informações que necessitamos."
      ],
      "metadata": {
        "id": "rpvBSMruIAFc"
      }
    },
    {
      "cell_type": "code",
      "source": [
        "#Para visualizarmos as 5 primeiras linhas\n",
        "df.head()"
      ],
      "metadata": {
        "colab": {
          "base_uri": "https://localhost:8080/",
          "height": 206
        },
        "id": "JdBpT_1CIzWq",
        "outputId": "39602db5-b2cb-4151-b80f-5f94962797c1"
      },
      "execution_count": null,
      "outputs": [
        {
          "output_type": "execute_result",
          "data": {
            "text/plain": [
              "  symbol                       date   close    high       low    open  \\\n",
              "0    MMM  2017-05-23 00:00:00+00:00  197.73  198.97  197.5200  198.73   \n",
              "1    MMM  2017-05-24 00:00:00+00:00  197.49  198.53  197.2800  198.49   \n",
              "2    MMM  2017-05-25 00:00:00+00:00  199.54  199.61  197.7500  198.41   \n",
              "3    MMM  2017-05-26 00:00:00+00:00  200.67  200.69  198.9722  199.14   \n",
              "4    MMM  2017-05-30 00:00:00+00:00  202.44  203.03  199.9600  200.31   \n",
              "\n",
              "    volume    adjClose     adjHigh      adjLow     adjOpen  adjVolume  \\\n",
              "0  1514189  168.721288  169.779369  168.542097  169.574579    1514189   \n",
              "1  1206374  168.516498  169.403921  168.337307  169.369789    1206374   \n",
              "2  1460317  170.265745  170.325475  168.738354  169.301526    1460317   \n",
              "3  1409579  171.229964  171.247030  169.781246  169.924429    1409579   \n",
              "4  2168167  172.740290  173.243732  170.624127  170.922779    2168167   \n",
              "\n",
              "   divCash  splitFactor  \n",
              "0      0.0          1.0  \n",
              "1      0.0          1.0  \n",
              "2      0.0          1.0  \n",
              "3      0.0          1.0  \n",
              "4      0.0          1.0  "
            ],
            "text/html": [
              "\n",
              "  <div id=\"df-24781cd4-223c-4963-b91a-24942c5785a7\">\n",
              "    <div class=\"colab-df-container\">\n",
              "      <div>\n",
              "<style scoped>\n",
              "    .dataframe tbody tr th:only-of-type {\n",
              "        vertical-align: middle;\n",
              "    }\n",
              "\n",
              "    .dataframe tbody tr th {\n",
              "        vertical-align: top;\n",
              "    }\n",
              "\n",
              "    .dataframe thead th {\n",
              "        text-align: right;\n",
              "    }\n",
              "</style>\n",
              "<table border=\"1\" class=\"dataframe\">\n",
              "  <thead>\n",
              "    <tr style=\"text-align: right;\">\n",
              "      <th></th>\n",
              "      <th>symbol</th>\n",
              "      <th>date</th>\n",
              "      <th>close</th>\n",
              "      <th>high</th>\n",
              "      <th>low</th>\n",
              "      <th>open</th>\n",
              "      <th>volume</th>\n",
              "      <th>adjClose</th>\n",
              "      <th>adjHigh</th>\n",
              "      <th>adjLow</th>\n",
              "      <th>adjOpen</th>\n",
              "      <th>adjVolume</th>\n",
              "      <th>divCash</th>\n",
              "      <th>splitFactor</th>\n",
              "    </tr>\n",
              "  </thead>\n",
              "  <tbody>\n",
              "    <tr>\n",
              "      <th>0</th>\n",
              "      <td>MMM</td>\n",
              "      <td>2017-05-23 00:00:00+00:00</td>\n",
              "      <td>197.73</td>\n",
              "      <td>198.97</td>\n",
              "      <td>197.5200</td>\n",
              "      <td>198.73</td>\n",
              "      <td>1514189</td>\n",
              "      <td>168.721288</td>\n",
              "      <td>169.779369</td>\n",
              "      <td>168.542097</td>\n",
              "      <td>169.574579</td>\n",
              "      <td>1514189</td>\n",
              "      <td>0.0</td>\n",
              "      <td>1.0</td>\n",
              "    </tr>\n",
              "    <tr>\n",
              "      <th>1</th>\n",
              "      <td>MMM</td>\n",
              "      <td>2017-05-24 00:00:00+00:00</td>\n",
              "      <td>197.49</td>\n",
              "      <td>198.53</td>\n",
              "      <td>197.2800</td>\n",
              "      <td>198.49</td>\n",
              "      <td>1206374</td>\n",
              "      <td>168.516498</td>\n",
              "      <td>169.403921</td>\n",
              "      <td>168.337307</td>\n",
              "      <td>169.369789</td>\n",
              "      <td>1206374</td>\n",
              "      <td>0.0</td>\n",
              "      <td>1.0</td>\n",
              "    </tr>\n",
              "    <tr>\n",
              "      <th>2</th>\n",
              "      <td>MMM</td>\n",
              "      <td>2017-05-25 00:00:00+00:00</td>\n",
              "      <td>199.54</td>\n",
              "      <td>199.61</td>\n",
              "      <td>197.7500</td>\n",
              "      <td>198.41</td>\n",
              "      <td>1460317</td>\n",
              "      <td>170.265745</td>\n",
              "      <td>170.325475</td>\n",
              "      <td>168.738354</td>\n",
              "      <td>169.301526</td>\n",
              "      <td>1460317</td>\n",
              "      <td>0.0</td>\n",
              "      <td>1.0</td>\n",
              "    </tr>\n",
              "    <tr>\n",
              "      <th>3</th>\n",
              "      <td>MMM</td>\n",
              "      <td>2017-05-26 00:00:00+00:00</td>\n",
              "      <td>200.67</td>\n",
              "      <td>200.69</td>\n",
              "      <td>198.9722</td>\n",
              "      <td>199.14</td>\n",
              "      <td>1409579</td>\n",
              "      <td>171.229964</td>\n",
              "      <td>171.247030</td>\n",
              "      <td>169.781246</td>\n",
              "      <td>169.924429</td>\n",
              "      <td>1409579</td>\n",
              "      <td>0.0</td>\n",
              "      <td>1.0</td>\n",
              "    </tr>\n",
              "    <tr>\n",
              "      <th>4</th>\n",
              "      <td>MMM</td>\n",
              "      <td>2017-05-30 00:00:00+00:00</td>\n",
              "      <td>202.44</td>\n",
              "      <td>203.03</td>\n",
              "      <td>199.9600</td>\n",
              "      <td>200.31</td>\n",
              "      <td>2168167</td>\n",
              "      <td>172.740290</td>\n",
              "      <td>173.243732</td>\n",
              "      <td>170.624127</td>\n",
              "      <td>170.922779</td>\n",
              "      <td>2168167</td>\n",
              "      <td>0.0</td>\n",
              "      <td>1.0</td>\n",
              "    </tr>\n",
              "  </tbody>\n",
              "</table>\n",
              "</div>\n",
              "      <button class=\"colab-df-convert\" onclick=\"convertToInteractive('df-24781cd4-223c-4963-b91a-24942c5785a7')\"\n",
              "              title=\"Convert this dataframe to an interactive table.\"\n",
              "              style=\"display:none;\">\n",
              "        \n",
              "  <svg xmlns=\"http://www.w3.org/2000/svg\" height=\"24px\"viewBox=\"0 0 24 24\"\n",
              "       width=\"24px\">\n",
              "    <path d=\"M0 0h24v24H0V0z\" fill=\"none\"/>\n",
              "    <path d=\"M18.56 5.44l.94 2.06.94-2.06 2.06-.94-2.06-.94-.94-2.06-.94 2.06-2.06.94zm-11 1L8.5 8.5l.94-2.06 2.06-.94-2.06-.94L8.5 2.5l-.94 2.06-2.06.94zm10 10l.94 2.06.94-2.06 2.06-.94-2.06-.94-.94-2.06-.94 2.06-2.06.94z\"/><path d=\"M17.41 7.96l-1.37-1.37c-.4-.4-.92-.59-1.43-.59-.52 0-1.04.2-1.43.59L10.3 9.45l-7.72 7.72c-.78.78-.78 2.05 0 2.83L4 21.41c.39.39.9.59 1.41.59.51 0 1.02-.2 1.41-.59l7.78-7.78 2.81-2.81c.8-.78.8-2.07 0-2.86zM5.41 20L4 18.59l7.72-7.72 1.47 1.35L5.41 20z\"/>\n",
              "  </svg>\n",
              "      </button>\n",
              "      \n",
              "  <style>\n",
              "    .colab-df-container {\n",
              "      display:flex;\n",
              "      flex-wrap:wrap;\n",
              "      gap: 12px;\n",
              "    }\n",
              "\n",
              "    .colab-df-convert {\n",
              "      background-color: #E8F0FE;\n",
              "      border: none;\n",
              "      border-radius: 50%;\n",
              "      cursor: pointer;\n",
              "      display: none;\n",
              "      fill: #1967D2;\n",
              "      height: 32px;\n",
              "      padding: 0 0 0 0;\n",
              "      width: 32px;\n",
              "    }\n",
              "\n",
              "    .colab-df-convert:hover {\n",
              "      background-color: #E2EBFA;\n",
              "      box-shadow: 0px 1px 2px rgba(60, 64, 67, 0.3), 0px 1px 3px 1px rgba(60, 64, 67, 0.15);\n",
              "      fill: #174EA6;\n",
              "    }\n",
              "\n",
              "    [theme=dark] .colab-df-convert {\n",
              "      background-color: #3B4455;\n",
              "      fill: #D2E3FC;\n",
              "    }\n",
              "\n",
              "    [theme=dark] .colab-df-convert:hover {\n",
              "      background-color: #434B5C;\n",
              "      box-shadow: 0px 1px 3px 1px rgba(0, 0, 0, 0.15);\n",
              "      filter: drop-shadow(0px 1px 2px rgba(0, 0, 0, 0.3));\n",
              "      fill: #FFFFFF;\n",
              "    }\n",
              "  </style>\n",
              "\n",
              "      <script>\n",
              "        const buttonEl =\n",
              "          document.querySelector('#df-24781cd4-223c-4963-b91a-24942c5785a7 button.colab-df-convert');\n",
              "        buttonEl.style.display =\n",
              "          google.colab.kernel.accessAllowed ? 'block' : 'none';\n",
              "\n",
              "        async function convertToInteractive(key) {\n",
              "          const element = document.querySelector('#df-24781cd4-223c-4963-b91a-24942c5785a7');\n",
              "          const dataTable =\n",
              "            await google.colab.kernel.invokeFunction('convertToInteractive',\n",
              "                                                     [key], {});\n",
              "          if (!dataTable) return;\n",
              "\n",
              "          const docLinkHtml = 'Like what you see? Visit the ' +\n",
              "            '<a target=\"_blank\" href=https://colab.research.google.com/notebooks/data_table.ipynb>data table notebook</a>'\n",
              "            + ' to learn more about interactive tables.';\n",
              "          element.innerHTML = '';\n",
              "          dataTable['output_type'] = 'display_data';\n",
              "          await google.colab.output.renderOutput(dataTable, element);\n",
              "          const docLink = document.createElement('div');\n",
              "          docLink.innerHTML = docLinkHtml;\n",
              "          element.appendChild(docLink);\n",
              "        }\n",
              "      </script>\n",
              "    </div>\n",
              "  </div>\n",
              "  "
            ]
          },
          "metadata": {},
          "execution_count": 4
        }
      ]
    },
    {
      "cell_type": "code",
      "source": [
        "#Para visualizarmos as 5 últimas linhas\n",
        "df.tail()"
      ],
      "metadata": {
        "colab": {
          "base_uri": "https://localhost:8080/",
          "height": 206
        },
        "id": "GdtFcCXOI5cr",
        "outputId": "1fec9524-9195-4b85-c8d6-908625fb930e"
      },
      "execution_count": null,
      "outputs": [
        {
          "output_type": "execute_result",
          "data": {
            "text/plain": [
              "     symbol                       date   close    high      low    open  \\\n",
              "1254    MMM  2022-05-16 00:00:00+00:00  150.50  150.83  146.305  149.22   \n",
              "1255    MMM  2022-05-17 00:00:00+00:00  152.34  152.50  150.520  151.99   \n",
              "1256    MMM  2022-05-18 00:00:00+00:00  148.93  151.71  148.470  151.59   \n",
              "1257    MMM  2022-05-19 00:00:00+00:00  146.96  148.90  144.110  146.20   \n",
              "1258    MMM  2022-05-20 00:00:00+00:00  143.83  147.94  141.090  147.54   \n",
              "\n",
              "       volume    adjClose     adjHigh      adjLow     adjOpen  adjVolume  \\\n",
              "1254  2713786  148.989424  149.316112  144.836529  147.722271    2713786   \n",
              "1255  2106776  150.810956  150.969350  149.009223  150.464469    2106776   \n",
              "1256  2958657  147.435182  150.187279  146.979799  150.068484    2958657   \n",
              "1257  2746664  146.960000  148.900000  144.110000  146.200000    2746664   \n",
              "1258  4195356  143.830000  147.940000  141.090000  147.540000    4195356   \n",
              "\n",
              "      divCash  splitFactor  \n",
              "1254     0.00          1.0  \n",
              "1255     0.00          1.0  \n",
              "1256     0.00          1.0  \n",
              "1257     1.49          1.0  \n",
              "1258     0.00          1.0  "
            ],
            "text/html": [
              "\n",
              "  <div id=\"df-7bd4fb24-c08a-4a18-b995-bac5541ddefb\">\n",
              "    <div class=\"colab-df-container\">\n",
              "      <div>\n",
              "<style scoped>\n",
              "    .dataframe tbody tr th:only-of-type {\n",
              "        vertical-align: middle;\n",
              "    }\n",
              "\n",
              "    .dataframe tbody tr th {\n",
              "        vertical-align: top;\n",
              "    }\n",
              "\n",
              "    .dataframe thead th {\n",
              "        text-align: right;\n",
              "    }\n",
              "</style>\n",
              "<table border=\"1\" class=\"dataframe\">\n",
              "  <thead>\n",
              "    <tr style=\"text-align: right;\">\n",
              "      <th></th>\n",
              "      <th>symbol</th>\n",
              "      <th>date</th>\n",
              "      <th>close</th>\n",
              "      <th>high</th>\n",
              "      <th>low</th>\n",
              "      <th>open</th>\n",
              "      <th>volume</th>\n",
              "      <th>adjClose</th>\n",
              "      <th>adjHigh</th>\n",
              "      <th>adjLow</th>\n",
              "      <th>adjOpen</th>\n",
              "      <th>adjVolume</th>\n",
              "      <th>divCash</th>\n",
              "      <th>splitFactor</th>\n",
              "    </tr>\n",
              "  </thead>\n",
              "  <tbody>\n",
              "    <tr>\n",
              "      <th>1254</th>\n",
              "      <td>MMM</td>\n",
              "      <td>2022-05-16 00:00:00+00:00</td>\n",
              "      <td>150.50</td>\n",
              "      <td>150.83</td>\n",
              "      <td>146.305</td>\n",
              "      <td>149.22</td>\n",
              "      <td>2713786</td>\n",
              "      <td>148.989424</td>\n",
              "      <td>149.316112</td>\n",
              "      <td>144.836529</td>\n",
              "      <td>147.722271</td>\n",
              "      <td>2713786</td>\n",
              "      <td>0.00</td>\n",
              "      <td>1.0</td>\n",
              "    </tr>\n",
              "    <tr>\n",
              "      <th>1255</th>\n",
              "      <td>MMM</td>\n",
              "      <td>2022-05-17 00:00:00+00:00</td>\n",
              "      <td>152.34</td>\n",
              "      <td>152.50</td>\n",
              "      <td>150.520</td>\n",
              "      <td>151.99</td>\n",
              "      <td>2106776</td>\n",
              "      <td>150.810956</td>\n",
              "      <td>150.969350</td>\n",
              "      <td>149.009223</td>\n",
              "      <td>150.464469</td>\n",
              "      <td>2106776</td>\n",
              "      <td>0.00</td>\n",
              "      <td>1.0</td>\n",
              "    </tr>\n",
              "    <tr>\n",
              "      <th>1256</th>\n",
              "      <td>MMM</td>\n",
              "      <td>2022-05-18 00:00:00+00:00</td>\n",
              "      <td>148.93</td>\n",
              "      <td>151.71</td>\n",
              "      <td>148.470</td>\n",
              "      <td>151.59</td>\n",
              "      <td>2958657</td>\n",
              "      <td>147.435182</td>\n",
              "      <td>150.187279</td>\n",
              "      <td>146.979799</td>\n",
              "      <td>150.068484</td>\n",
              "      <td>2958657</td>\n",
              "      <td>0.00</td>\n",
              "      <td>1.0</td>\n",
              "    </tr>\n",
              "    <tr>\n",
              "      <th>1257</th>\n",
              "      <td>MMM</td>\n",
              "      <td>2022-05-19 00:00:00+00:00</td>\n",
              "      <td>146.96</td>\n",
              "      <td>148.90</td>\n",
              "      <td>144.110</td>\n",
              "      <td>146.20</td>\n",
              "      <td>2746664</td>\n",
              "      <td>146.960000</td>\n",
              "      <td>148.900000</td>\n",
              "      <td>144.110000</td>\n",
              "      <td>146.200000</td>\n",
              "      <td>2746664</td>\n",
              "      <td>1.49</td>\n",
              "      <td>1.0</td>\n",
              "    </tr>\n",
              "    <tr>\n",
              "      <th>1258</th>\n",
              "      <td>MMM</td>\n",
              "      <td>2022-05-20 00:00:00+00:00</td>\n",
              "      <td>143.83</td>\n",
              "      <td>147.94</td>\n",
              "      <td>141.090</td>\n",
              "      <td>147.54</td>\n",
              "      <td>4195356</td>\n",
              "      <td>143.830000</td>\n",
              "      <td>147.940000</td>\n",
              "      <td>141.090000</td>\n",
              "      <td>147.540000</td>\n",
              "      <td>4195356</td>\n",
              "      <td>0.00</td>\n",
              "      <td>1.0</td>\n",
              "    </tr>\n",
              "  </tbody>\n",
              "</table>\n",
              "</div>\n",
              "      <button class=\"colab-df-convert\" onclick=\"convertToInteractive('df-7bd4fb24-c08a-4a18-b995-bac5541ddefb')\"\n",
              "              title=\"Convert this dataframe to an interactive table.\"\n",
              "              style=\"display:none;\">\n",
              "        \n",
              "  <svg xmlns=\"http://www.w3.org/2000/svg\" height=\"24px\"viewBox=\"0 0 24 24\"\n",
              "       width=\"24px\">\n",
              "    <path d=\"M0 0h24v24H0V0z\" fill=\"none\"/>\n",
              "    <path d=\"M18.56 5.44l.94 2.06.94-2.06 2.06-.94-2.06-.94-.94-2.06-.94 2.06-2.06.94zm-11 1L8.5 8.5l.94-2.06 2.06-.94-2.06-.94L8.5 2.5l-.94 2.06-2.06.94zm10 10l.94 2.06.94-2.06 2.06-.94-2.06-.94-.94-2.06-.94 2.06-2.06.94z\"/><path d=\"M17.41 7.96l-1.37-1.37c-.4-.4-.92-.59-1.43-.59-.52 0-1.04.2-1.43.59L10.3 9.45l-7.72 7.72c-.78.78-.78 2.05 0 2.83L4 21.41c.39.39.9.59 1.41.59.51 0 1.02-.2 1.41-.59l7.78-7.78 2.81-2.81c.8-.78.8-2.07 0-2.86zM5.41 20L4 18.59l7.72-7.72 1.47 1.35L5.41 20z\"/>\n",
              "  </svg>\n",
              "      </button>\n",
              "      \n",
              "  <style>\n",
              "    .colab-df-container {\n",
              "      display:flex;\n",
              "      flex-wrap:wrap;\n",
              "      gap: 12px;\n",
              "    }\n",
              "\n",
              "    .colab-df-convert {\n",
              "      background-color: #E8F0FE;\n",
              "      border: none;\n",
              "      border-radius: 50%;\n",
              "      cursor: pointer;\n",
              "      display: none;\n",
              "      fill: #1967D2;\n",
              "      height: 32px;\n",
              "      padding: 0 0 0 0;\n",
              "      width: 32px;\n",
              "    }\n",
              "\n",
              "    .colab-df-convert:hover {\n",
              "      background-color: #E2EBFA;\n",
              "      box-shadow: 0px 1px 2px rgba(60, 64, 67, 0.3), 0px 1px 3px 1px rgba(60, 64, 67, 0.15);\n",
              "      fill: #174EA6;\n",
              "    }\n",
              "\n",
              "    [theme=dark] .colab-df-convert {\n",
              "      background-color: #3B4455;\n",
              "      fill: #D2E3FC;\n",
              "    }\n",
              "\n",
              "    [theme=dark] .colab-df-convert:hover {\n",
              "      background-color: #434B5C;\n",
              "      box-shadow: 0px 1px 3px 1px rgba(0, 0, 0, 0.15);\n",
              "      filter: drop-shadow(0px 1px 2px rgba(0, 0, 0, 0.3));\n",
              "      fill: #FFFFFF;\n",
              "    }\n",
              "  </style>\n",
              "\n",
              "      <script>\n",
              "        const buttonEl =\n",
              "          document.querySelector('#df-7bd4fb24-c08a-4a18-b995-bac5541ddefb button.colab-df-convert');\n",
              "        buttonEl.style.display =\n",
              "          google.colab.kernel.accessAllowed ? 'block' : 'none';\n",
              "\n",
              "        async function convertToInteractive(key) {\n",
              "          const element = document.querySelector('#df-7bd4fb24-c08a-4a18-b995-bac5541ddefb');\n",
              "          const dataTable =\n",
              "            await google.colab.kernel.invokeFunction('convertToInteractive',\n",
              "                                                     [key], {});\n",
              "          if (!dataTable) return;\n",
              "\n",
              "          const docLinkHtml = 'Like what you see? Visit the ' +\n",
              "            '<a target=\"_blank\" href=https://colab.research.google.com/notebooks/data_table.ipynb>data table notebook</a>'\n",
              "            + ' to learn more about interactive tables.';\n",
              "          element.innerHTML = '';\n",
              "          dataTable['output_type'] = 'display_data';\n",
              "          await google.colab.output.renderOutput(dataTable, element);\n",
              "          const docLink = document.createElement('div');\n",
              "          docLink.innerHTML = docLinkHtml;\n",
              "          element.appendChild(docLink);\n",
              "        }\n",
              "      </script>\n",
              "    </div>\n",
              "  </div>\n",
              "  "
            ]
          },
          "metadata": {},
          "execution_count": 5
        }
      ]
    },
    {
      "cell_type": "markdown",
      "source": [
        "##MÉTODOS DE PRÉ-PROCESSAMENTO"
      ],
      "metadata": {
        "id": "v_T8bydoEYnS"
      }
    },
    {
      "cell_type": "markdown",
      "source": [
        "Como a ideia é prever os preços que os dias subsequentes fecharão a cotação, nos interessa principalmente 3 colunas da base de dados. \n",
        "Estas colunas são :\n",
        "1. Close : Indica o preço em que a ação fechou o dia\n",
        "2. High : Indica o preço máximo que a ação chegou no dia\n",
        "3. Low : Indica o preço minimo que a ação chegou no dia"
      ],
      "metadata": {
        "id": "lUAvJgkVJf36"
      }
    },
    {
      "cell_type": "markdown",
      "source": [
        "Para o treinamento deste modelo, cujo objetivo é prever um preço adequado para uma ordem de venda, será utilizado o histórico dos maiores preços alcançados ao longo do tempo."
      ],
      "metadata": {
        "id": "igfnISM7KCKr"
      }
    },
    {
      "cell_type": "code",
      "source": [
        "## Como nos interessa apenas o preço máximo, criaremos um dataframe apenas com essa informação e o índice, que representará o dia.\n",
        "df1=df.reset_index()['high']\n",
        "plt.plot(df1) #Evolução da cotação ao longo do período\n",
        "df1.shape #Número de dias sendo considerado"
      ],
      "metadata": {
        "colab": {
          "base_uri": "https://localhost:8080/",
          "height": 282
        },
        "id": "jJvHnotdKNvq",
        "outputId": "e3348237-be52-41b3-b3fa-40f60a22962e"
      },
      "execution_count": null,
      "outputs": [
        {
          "output_type": "execute_result",
          "data": {
            "text/plain": [
              "(1259,)"
            ]
          },
          "metadata": {},
          "execution_count": 6
        },
        {
          "output_type": "display_data",
          "data": {
            "text/plain": [
              "<Figure size 432x288 with 1 Axes>"
            ],
            "image/png": "[encoded data removed]"
          },
          "metadata": {
            "needs_background": "light"
          }
        }
      ]
    },
    {
      "cell_type": "code",
      "source": [
        "#O método escolhido, no caso o LSTM é bastante sensível a variação. Por isso é necessário que adicionemos a função Scaler: mín e max para os valores da cotação.\n",
        "#Essa função transformará nosso dataframe em valores entre 0 e 1.\n",
        "from sklearn.preprocessing import MinMaxScaler\n",
        "scaler=MinMaxScaler(feature_range=(0,1))\n",
        "df1=scaler.fit_transform(np.array(df1).reshape(-1,1))\n",
        "df1.shape"
      ],
      "metadata": {
        "colab": {
          "base_uri": "https://localhost:8080/"
        },
        "id": "NjClbRZ-LMID",
        "outputId": "c7ef60a5-5d8a-490a-b159-ea4a1d99bcc5"
      },
      "execution_count": null,
      "outputs": [
        {
          "output_type": "execute_result",
          "data": {
            "text/plain": [
              "(1259, 1)"
            ]
          },
          "metadata": {},
          "execution_count": 7
        }
      ]
    },
    {
      "cell_type": "code",
      "source": [
        "df1 #visualização da transformação feita acima"
      ],
      "metadata": {
        "colab": {
          "base_uri": "https://localhost:8080/"
        },
        "id": "kXSMKzftLtwL",
        "outputId": "e34ca053-1e83-4ccb-8890-1fc9a8de8545"
      },
      "execution_count": null,
      "outputs": [
        {
          "output_type": "execute_result",
          "data": {
            "text/plain": [
              "array([[0.53718505],\n",
              "       [0.53383573],\n",
              "       [0.54205679],\n",
              "       ...,\n",
              "       [0.17743777],\n",
              "       [0.1560478 ],\n",
              "       [0.1487402 ]])"
            ]
          },
          "metadata": {},
          "execution_count": 8
        }
      ]
    },
    {
      "cell_type": "markdown",
      "source": [
        "##PARTICIONAMENTO DOS DADOS"
      ],
      "metadata": {
        "id": "wE0YVwxqEbT9"
      }
    },
    {
      "cell_type": "markdown",
      "source": [
        "Para que possamos treinar o modelo, precisamos dividir a base de dados a qual foi feita o upload em 2 partes, as quais são:\n",
        "\n",
        "1. Treino: Aproximadamente 70% do banco de dados\n",
        "2. Validação: Aproxidamente 30% do banco de dados\n",
        "\n",
        "OBS: A ideia desse modelo é tentar prever dados futuros a partir do histórico conhecido, por isso não temos aqui a etapa de teste."
      ],
      "metadata": {
        "id": "2FiCLDF4MJNu"
      }
    },
    {
      "cell_type": "code",
      "source": [
        "training_size=int(len(df1)*0.7)\n",
        "test_size=len(df1)-training_size\n",
        "train_data,test_data=df1[0:training_size,:],df1[training_size:len(df1),:1]"
      ],
      "metadata": {
        "id": "dibLD4-XNHJb"
      },
      "execution_count": null,
      "outputs": []
    },
    {
      "cell_type": "code",
      "source": [
        "training_size, test_size #aqui podemos verificar quantos dias ficaram em cada uma das partes"
      ],
      "metadata": {
        "colab": {
          "base_uri": "https://localhost:8080/"
        },
        "id": "FYuIUbD0NSQG",
        "outputId": "41f95352-be50-479d-c7fa-49f42aa21446"
      },
      "execution_count": null,
      "outputs": [
        {
          "output_type": "execute_result",
          "data": {
            "text/plain": [
              "(881, 378)"
            ]
          },
          "metadata": {},
          "execution_count": 10
        }
      ]
    },
    {
      "cell_type": "markdown",
      "source": [
        "##TREINAMENTO DO MODELO"
      ],
      "metadata": {
        "id": "3RU7AuoJEd5B"
      }
    },
    {
      "cell_type": "markdown",
      "source": [
        "A ideia aqui é se utilizar de matrizes para podermos considerar as séries temporais, conforme exemplificado no pdf disponível no github. A lógica por trás desse trecho foi também baseada em exemplos disponíveis na internet, as quais cabe destacar.\n",
        "\n",
        "Time Series Forecasting With RNN(LSTM)| Complete Python Tutorial|: \n",
        "https://www.youtube.com/watch?v=S8tpSG6Q2H0\n",
        "\n",
        "PyTorch Time Sequence Prediction With LSTM - Forecasting Tutorial: \n",
        "https://www.youtube.com/watch?v=AvKSPZ7oyVg\n"
      ],
      "metadata": {
        "id": "IKnNZ1bsOKYe"
      }
    },
    {
      "cell_type": "code",
      "source": [
        "import numpy\n",
        "def create_dataset(dataset, time_step=1):\n",
        "\tdataX, dataY = [], []\n",
        "\tfor i in range(len(dataset)-time_step-1):\n",
        "\t\ta = dataset[i:(i+time_step), 0]\n",
        "\t\tdataX.append(a)\n",
        "\t\tdataY.append(dataset[i + time_step, 0])\n",
        "\treturn numpy.array(dataX), numpy.array(dataY)"
      ],
      "metadata": {
        "id": "r2L27MgYOI68"
      },
      "execution_count": null,
      "outputs": []
    },
    {
      "cell_type": "code",
      "source": [
        "time_step = 100\n",
        "X_train, y_train = create_dataset(train_data, time_step)\n",
        "X_test, ytest = create_dataset(test_data, time_step)"
      ],
      "metadata": {
        "id": "f3QDRfjGOJPk"
      },
      "execution_count": null,
      "outputs": []
    },
    {
      "cell_type": "markdown",
      "source": [
        "Para o caso específico do metódo LSTM, é necessário remodelarmos os imputs para:\n",
        "1. Amostras\n",
        "2. Tempo\n",
        "3. Caracteristica"
      ],
      "metadata": {
        "id": "DXbfpCx0PGla"
      }
    },
    {
      "cell_type": "code",
      "source": [
        "X_train =X_train.reshape(X_train.shape[0],X_train.shape[1] , 1)\n",
        "X_test = X_test.reshape(X_test.shape[0],X_test.shape[1] , 1)"
      ],
      "metadata": {
        "id": "ZAmv_U0UPF-j"
      },
      "execution_count": null,
      "outputs": []
    },
    {
      "cell_type": "code",
      "source": [
        "#Com as 3 linhas abaixo estamos efetivamente criando o modelo LSTM\n",
        "from tensorflow.keras.models import Sequential\n",
        "from tensorflow.keras.layers import Dense\n",
        "from tensorflow.keras.layers import LSTM"
      ],
      "metadata": {
        "id": "bthbJ1gqPboj"
      },
      "execution_count": null,
      "outputs": []
    },
    {
      "cell_type": "code",
      "source": [
        "model=Sequential()\n",
        "model.add(LSTM(50,return_sequences=True,input_shape=(100,1)))\n",
        "model.add(LSTM(50,return_sequences=True))\n",
        "model.add(LSTM(50))\n",
        "model.add(Dense(1))\n",
        "model.compile(loss='mean_squared_error',optimizer='adam')"
      ],
      "metadata": {
        "id": "HI0LIyjUPllS"
      },
      "execution_count": null,
      "outputs": []
    },
    {
      "cell_type": "markdown",
      "source": [
        "Arrumado os parâmetros, podemos agora efetivamente treinar o modelo.\n",
        "\n",
        "Cabe uma atenção especial no número de epochs devido ao tamanho das bases utilizadas."
      ],
      "metadata": {
        "id": "dc7spD_EPzlt"
      }
    },
    {
      "cell_type": "code",
      "source": [
        "model.fit(X_train,y_train,validation_data=(X_test,ytest),epochs=50,batch_size=64,verbose=1)\n",
        "#Aqui foi utilizado 50 epochs pois testes anteriores mostraram que é um valor aceitável para garantir a acuracidade do modelo"
      ],
      "metadata": {
        "colab": {
          "base_uri": "https://localhost:8080/"
        },
        "id": "JjiFdIuIP5PR",
        "outputId": "b8f6a796-7961-4866-d27d-a12aca24ed02"
      },
      "execution_count": null,
      "outputs": [
        {
          "output_type": "stream",
          "name": "stdout",
          "text": [
            "Epoch 1/50\n",
            "13/13 [==============================] - 12s 552ms/step - loss: 0.0637 - val_loss: 0.0082\n",
            "Epoch 2/50\n",
            "13/13 [==============================] - 4s 347ms/step - loss: 0.0125 - val_loss: 0.0070\n",
            "Epoch 3/50\n",
            "13/13 [==============================] - 5s 379ms/step - loss: 0.0069 - val_loss: 0.0046\n",
            "Epoch 4/50\n",
            "13/13 [==============================] - 4s 330ms/step - loss: 0.0048 - val_loss: 0.0018\n",
            "Epoch 5/50\n",
            "13/13 [==============================] - 2s 173ms/step - loss: 0.0041 - val_loss: 0.0017\n",
            "Epoch 6/50\n",
            "13/13 [==============================] - 2s 169ms/step - loss: 0.0040 - val_loss: 0.0015\n",
            "Epoch 7/50\n",
            "13/13 [==============================] - 2s 168ms/step - loss: 0.0039 - val_loss: 0.0015\n",
            "Epoch 8/50\n",
            "13/13 [==============================] - 2s 169ms/step - loss: 0.0038 - val_loss: 0.0015\n",
            "Epoch 9/50\n",
            "13/13 [==============================] - 2s 170ms/step - loss: 0.0037 - val_loss: 0.0014\n",
            "Epoch 10/50\n",
            "13/13 [==============================] - 2s 165ms/step - loss: 0.0036 - val_loss: 0.0017\n",
            "Epoch 11/50\n",
            "13/13 [==============================] - 2s 166ms/step - loss: 0.0036 - val_loss: 0.0015\n",
            "Epoch 12/50\n",
            "13/13 [==============================] - 2s 169ms/step - loss: 0.0033 - val_loss: 0.0015\n",
            "Epoch 13/50\n",
            "13/13 [==============================] - 2s 171ms/step - loss: 0.0032 - val_loss: 0.0013\n",
            "Epoch 14/50\n",
            "13/13 [==============================] - 2s 186ms/step - loss: 0.0036 - val_loss: 0.0012\n",
            "Epoch 15/50\n",
            "13/13 [==============================] - 4s 301ms/step - loss: 0.0032 - val_loss: 0.0015\n",
            "Epoch 16/50\n",
            "13/13 [==============================] - 5s 358ms/step - loss: 0.0031 - val_loss: 0.0011\n",
            "Epoch 17/50\n",
            "13/13 [==============================] - 2s 169ms/step - loss: 0.0030 - val_loss: 0.0011\n",
            "Epoch 18/50\n",
            "13/13 [==============================] - 2s 171ms/step - loss: 0.0029 - val_loss: 0.0011\n",
            "Epoch 19/50\n",
            "13/13 [==============================] - 2s 173ms/step - loss: 0.0030 - val_loss: 0.0010\n",
            "Epoch 20/50\n",
            "13/13 [==============================] - 2s 173ms/step - loss: 0.0028 - val_loss: 0.0014\n",
            "Epoch 21/50\n",
            "13/13 [==============================] - 2s 169ms/step - loss: 0.0028 - val_loss: 0.0011\n",
            "Epoch 22/50\n",
            "13/13 [==============================] - 2s 173ms/step - loss: 0.0027 - val_loss: 0.0011\n",
            "Epoch 23/50\n",
            "13/13 [==============================] - 2s 171ms/step - loss: 0.0026 - val_loss: 0.0011\n",
            "Epoch 24/50\n",
            "13/13 [==============================] - 2s 169ms/step - loss: 0.0027 - val_loss: 9.0740e-04\n",
            "Epoch 25/50\n",
            "13/13 [==============================] - 2s 170ms/step - loss: 0.0026 - val_loss: 8.7794e-04\n",
            "Epoch 26/50\n",
            "13/13 [==============================] - 2s 168ms/step - loss: 0.0025 - val_loss: 9.6941e-04\n",
            "Epoch 27/50\n",
            "13/13 [==============================] - 2s 172ms/step - loss: 0.0023 - val_loss: 0.0010\n",
            "Epoch 28/50\n",
            "13/13 [==============================] - 2s 168ms/step - loss: 0.0025 - val_loss: 0.0010\n",
            "Epoch 29/50\n",
            "13/13 [==============================] - 2s 177ms/step - loss: 0.0023 - val_loss: 8.2462e-04\n",
            "Epoch 30/50\n",
            "13/13 [==============================] - 2s 167ms/step - loss: 0.0024 - val_loss: 7.8879e-04\n",
            "Epoch 31/50\n",
            "13/13 [==============================] - 2s 173ms/step - loss: 0.0028 - val_loss: 0.0011\n",
            "Epoch 32/50\n",
            "13/13 [==============================] - 2s 174ms/step - loss: 0.0026 - val_loss: 7.7680e-04\n",
            "Epoch 33/50\n",
            "13/13 [==============================] - 2s 168ms/step - loss: 0.0022 - val_loss: 8.0295e-04\n",
            "Epoch 34/50\n",
            "13/13 [==============================] - 2s 167ms/step - loss: 0.0020 - val_loss: 8.1558e-04\n",
            "Epoch 35/50\n",
            "13/13 [==============================] - 2s 190ms/step - loss: 0.0021 - val_loss: 7.4367e-04\n",
            "Epoch 36/50\n",
            "13/13 [==============================] - 2s 170ms/step - loss: 0.0019 - val_loss: 7.7334e-04\n",
            "Epoch 37/50\n",
            "13/13 [==============================] - 2s 180ms/step - loss: 0.0018 - val_loss: 7.5507e-04\n",
            "Epoch 38/50\n",
            "13/13 [==============================] - 2s 168ms/step - loss: 0.0019 - val_loss: 8.4325e-04\n",
            "Epoch 39/50\n",
            "13/13 [==============================] - 2s 171ms/step - loss: 0.0018 - val_loss: 9.1755e-04\n",
            "Epoch 40/50\n",
            "13/13 [==============================] - 2s 180ms/step - loss: 0.0022 - val_loss: 0.0014\n",
            "Epoch 41/50\n",
            "13/13 [==============================] - 2s 188ms/step - loss: 0.0022 - val_loss: 6.8686e-04\n",
            "Epoch 42/50\n",
            "13/13 [==============================] - 4s 329ms/step - loss: 0.0017 - val_loss: 6.5711e-04\n",
            "Epoch 43/50\n",
            "13/13 [==============================] - 3s 239ms/step - loss: 0.0017 - val_loss: 6.5020e-04\n",
            "Epoch 44/50\n",
            "13/13 [==============================] - 2s 172ms/step - loss: 0.0016 - val_loss: 7.0738e-04\n",
            "Epoch 45/50\n",
            "13/13 [==============================] - 2s 172ms/step - loss: 0.0016 - val_loss: 6.3757e-04\n",
            "Epoch 46/50\n",
            "13/13 [==============================] - 2s 170ms/step - loss: 0.0016 - val_loss: 5.6650e-04\n",
            "Epoch 47/50\n",
            "13/13 [==============================] - 2s 178ms/step - loss: 0.0015 - val_loss: 5.8906e-04\n",
            "Epoch 48/50\n",
            "13/13 [==============================] - 2s 168ms/step - loss: 0.0015 - val_loss: 7.7508e-04\n",
            "Epoch 49/50\n",
            "13/13 [==============================] - 2s 182ms/step - loss: 0.0015 - val_loss: 6.5344e-04\n",
            "Epoch 50/50\n",
            "13/13 [==============================] - 2s 171ms/step - loss: 0.0015 - val_loss: 5.3721e-04\n"
          ]
        },
        {
          "output_type": "execute_result",
          "data": {
            "text/plain": [
              "<keras.callbacks.History at 0x7f2dc3f8fad0>"
            ]
          },
          "metadata": {},
          "execution_count": 16
        }
      ]
    },
    {
      "cell_type": "markdown",
      "source": [
        "##AVALIAÇÃO DO MODELO"
      ],
      "metadata": {
        "id": "3fRgUVAFEh9Q"
      }
    },
    {
      "cell_type": "markdown",
      "source": [
        "Treinado o modelo, chegou o momento de o avaliar, para isso iremos:"
      ],
      "metadata": {
        "id": "TUz1O1c5Qfr6"
      }
    },
    {
      "cell_type": "code",
      "source": [
        "#1. Realizar a predição dos 30% que ficaram como base para a validação (train)\n",
        "train_predict=model.predict(X_train)\n",
        "test_predict=model.predict(X_test)"
      ],
      "metadata": {
        "id": "VsRCTPOkQqsD"
      },
      "execution_count": null,
      "outputs": []
    },
    {
      "cell_type": "code",
      "source": [
        "#2. Transformar de volta aos valores originais para podermos calcular as métricas de performance da base de treino e de teste\n",
        "train_predict=scaler.inverse_transform(train_predict)\n",
        "test_predict=scaler.inverse_transform(test_predict)\n"
      ],
      "metadata": {
        "id": "d8X69fSIQ83a"
      },
      "execution_count": null,
      "outputs": []
    },
    {
      "cell_type": "markdown",
      "source": [
        "Erro da parcela de treino"
      ],
      "metadata": {
        "id": "jvARSFnamTuN"
      }
    },
    {
      "cell_type": "code",
      "source": [
        "import math\n",
        "from sklearn.metrics import mean_squared_error\n",
        "erro_treino = math.sqrt(mean_squared_error(y_train,train_predict))\n",
        "erro_treino"
      ],
      "metadata": {
        "colab": {
          "base_uri": "https://localhost:8080/"
        },
        "id": "J5YROMmlS3FK",
        "outputId": "07949637-12d4-4708-cacb-414316c9a39e"
      },
      "execution_count": null,
      "outputs": [
        {
          "output_type": "execute_result",
          "data": {
            "text/plain": [
              "189.84466420439287"
            ]
          },
          "metadata": {},
          "execution_count": 19
        }
      ]
    },
    {
      "cell_type": "markdown",
      "source": [
        "Erro da parcela de validação"
      ],
      "metadata": {
        "id": "Wb8QgM-umeXa"
      }
    },
    {
      "cell_type": "code",
      "source": [
        "import math\n",
        "from sklearn.metrics import mean_squared_error\n",
        "erro_validacao=math.sqrt(mean_squared_error(ytest,test_predict))\n",
        "erro_validacao"
      ],
      "metadata": {
        "colab": {
          "base_uri": "https://localhost:8080/"
        },
        "id": "6oSYsHo3RQ0b",
        "outputId": "c74bc41b-0ba0-4515-c012-64b838c0ffa9"
      },
      "execution_count": null,
      "outputs": [
        {
          "output_type": "execute_result",
          "data": {
            "text/plain": [
              "180.15501759027913"
            ]
          },
          "metadata": {},
          "execution_count": 20
        }
      ]
    },
    {
      "cell_type": "code",
      "source": [
        "erro_absoluto = erro_treino - erro_validacao\n",
        "erro_absoluto"
      ],
      "metadata": {
        "colab": {
          "base_uri": "https://localhost:8080/"
        },
        "id": "bfKcanbgnQBY",
        "outputId": "731f5cb9-dcda-4be5-a2cd-2dae53d9df66"
      },
      "execution_count": null,
      "outputs": [
        {
          "output_type": "execute_result",
          "data": {
            "text/plain": [
              "9.689646614113741"
            ]
          },
          "metadata": {},
          "execution_count": 21
        }
      ]
    },
    {
      "cell_type": "markdown",
      "source": [
        "Considerando que o erro acima é relativamente pequeno, podemos seguir adiante na visualização gráfica. Onde teremos a seguinte configuração:\n",
        "\n",
        "1. Azul: base de dados original\n",
        "2. Laranja: Valores previstos no treino\n",
        "3. Verde: Valores previstos no teste"
      ],
      "metadata": {
        "id": "qdBWSk22nqQg"
      }
    },
    {
      "cell_type": "code",
      "source": [
        "#3. Plotar os resultados graficamente\n",
        "#3.1 Plotando os dados da base de treinos\n",
        "dias=100\n",
        "trainPredictPlot = numpy.empty_like(df1)\n",
        "trainPredictPlot[:, :] = np.nan\n",
        "trainPredictPlot[dias:len(train_predict)+dias, :] = train_predict\n",
        "#3.2 Plotando os dados da base de teste\n",
        "testPredictPlot = numpy.empty_like(df1)\n",
        "testPredictPlot[:, :] = numpy.nan\n",
        "testPredictPlot[len(train_predict)+(dias*2)+1:len(df1)-1, :] = test_predict\n",
        "#3.3 Plotando os dados da base original\n",
        "plt.plot(scaler.inverse_transform(df1))\n",
        "plt.plot(trainPredictPlot)\n",
        "plt.plot(testPredictPlot)\n",
        "plt.show()\n",
        "\n"
      ],
      "metadata": {
        "colab": {
          "base_uri": "https://localhost:8080/",
          "height": 265
        },
        "id": "eupbqmvoRied",
        "outputId": "69633cf5-632f-4f0e-effd-8f578b44f2f3"
      },
      "execution_count": null,
      "outputs": [
        {
          "output_type": "display_data",
          "data": {
            "text/plain": [
              "<Figure size 432x288 with 1 Axes>"
            ],
            "image/png": "[encoded data removed]"
          },
          "metadata": {
            "needs_background": "light"
          }
        }
      ]
    },
    {
      "cell_type": "markdown",
      "source": [
        "#ETAPA III"
      ],
      "metadata": {
        "id": "MiL3OQ9_Eti-"
      }
    },
    {
      "cell_type": "markdown",
      "source": [
        "Realizado o treinamento do modelo na etapa anterir, chegou a hora de efetivamente botarnos o modelo em prática na tentativa de prever o valor da cotação nos próximos dias."
      ],
      "metadata": {
        "id": "LNc8bzRtoMeI"
      }
    },
    {
      "cell_type": "markdown",
      "source": [
        "## PREDIÇÃO DOS PRÓXIMOS DIAS"
      ],
      "metadata": {
        "id": "g87INylzE2KK"
      }
    },
    {
      "cell_type": "markdown",
      "source": [
        "Na célula de código abaixo, iremos obter a informação de quantos dias estão sendo utilizados na base de validação."
      ],
      "metadata": {
        "id": "7dVTX0QHoXwn"
      }
    },
    {
      "cell_type": "code",
      "source": [
        "len(test_data)"
      ],
      "metadata": {
        "colab": {
          "base_uri": "https://localhost:8080/"
        },
        "id": "BBwWmklAUCsk",
        "outputId": "ee804aa4-890d-4446-ec0c-12c5af36f86d"
      },
      "execution_count": null,
      "outputs": [
        {
          "output_type": "execute_result",
          "data": {
            "text/plain": [
              "378"
            ]
          },
          "metadata": {},
          "execution_count": 23
        }
      ]
    },
    {
      "cell_type": "markdown",
      "source": [
        "Queremos considerar aqui apenas 100 dias da base de teste para análise afim de mantermos um período relativamente semelhante para a predição. Por isso que o parâmetro da primeira linha: test_data[X:] deve ser o valor acima menos 100 nesse caso."
      ],
      "metadata": {
        "id": "SZYsWes-onuN"
      }
    },
    {
      "cell_type": "code",
      "source": [
        "x_input=test_data[278:].reshape(1,-1)\n",
        "x_input.shape"
      ],
      "metadata": {
        "colab": {
          "base_uri": "https://localhost:8080/"
        },
        "id": "9sKmBW6fUHaD",
        "outputId": "486fdac1-e563-49d6-9ff4-a536c8638ffd"
      },
      "execution_count": null,
      "outputs": [
        {
          "output_type": "execute_result",
          "data": {
            "text/plain": [
              "(1, 100)"
            ]
          },
          "metadata": {},
          "execution_count": 24
        }
      ]
    },
    {
      "cell_type": "code",
      "source": [
        "temp_input=list(x_input)\n",
        "temp_input=temp_input[0].tolist()"
      ],
      "metadata": {
        "id": "IY2xJRBPUTa0"
      },
      "execution_count": null,
      "outputs": []
    },
    {
      "cell_type": "markdown",
      "source": [
        "Para rodar a análise com o modelo treinado previamente, rodamos o código abaixo.\n",
        "Na forma de comentários estão explicados os parâmetros a serem mudados a depender da análise."
      ],
      "metadata": {
        "id": "JrFDRKmrpT__"
      }
    },
    {
      "cell_type": "code",
      "source": [
        "from numpy import array\n",
        "\n",
        "lst_output=[]\n",
        "n_steps=100 #número de dias que se quer considerar da base de treinamento, conforme célilas acima.\n",
        "i=0\n",
        "while(i<30): #número de dias que se pretende prever\n",
        "    \n",
        "    if(len(temp_input)>100): #verificar relação com o primeiro comentário desta célula\n",
        "        #print(temp_input)\n",
        "        x_input=np.array(temp_input[1:])\n",
        "        print(\"{} day input {}\".format(i,x_input))\n",
        "        x_input=x_input.reshape(1,-1)\n",
        "        x_input = x_input.reshape((1, n_steps, 1))\n",
        "        #print(x_input)\n",
        "        yhat = model.predict(x_input, verbose=0)\n",
        "        print(\"{} day output {}\".format(i,yhat))\n",
        "        temp_input.extend(yhat[0].tolist())\n",
        "        temp_input=temp_input[1:]\n",
        "        #print(temp_input)\n",
        "        lst_output.extend(yhat.tolist())\n",
        "        i=i+1\n",
        "    else:\n",
        "        x_input = x_input.reshape((1, n_steps,1))\n",
        "        yhat = model.predict(x_input, verbose=0)\n",
        "        print(yhat[0])\n",
        "        temp_input.extend(yhat[0].tolist())\n",
        "        print(len(temp_input))\n",
        "        lst_output.extend(yhat.tolist())\n",
        "        i=i+1\n",
        "    \n",
        "\n",
        "print(lst_output)"
      ],
      "metadata": {
        "colab": {
          "base_uri": "https://localhost:8080/"
        },
        "id": "R04nZxX9UX58",
        "outputId": "8e4a7bda-3bc4-4338-bfa4-2c6b94441d8d"
      },
      "execution_count": null,
      "outputs": [
        {
          "output_type": "stream",
          "name": "stdout",
          "text": [
            "[0.17586184]\n",
            "101\n",
            "1 day input [0.38654183 0.38021009 0.38585674 0.40237497 0.40633326 0.40252721\n",
            " 0.39651366 0.39148969 0.3893583  0.39285986 0.40298394 0.39933014\n",
            " 0.38174621 0.39940626 0.38683946 0.36248763 0.34109766 0.35137322\n",
            " 0.35662632 0.33280049 0.30714775 0.28842201 0.3011342  0.31095379\n",
            " 0.29177133 0.27662328 0.2581259  0.26421557 0.27296948 0.26177971\n",
            " 0.25272132 0.23742102 0.23353886 0.2253178  0.17561087 0.1622136\n",
            " 0.15307909 0.14409683 0.11791124 0.17778032 0.16160463 0.15696125\n",
            " 0.1520134  0.16434498 0.14683718 0.13199361 0.16038669 0.15878816\n",
            " 0.13366827 0.12240237 0.12856817 0.13001446 0.13602725 0.14698942\n",
            " 0.15262236 0.16244196 0.17081525 0.16274644 0.15855979 0.17340336\n",
            " 0.16541067 0.1866484  0.18923651 0.17393621 0.16335541 0.16449722\n",
            " 0.16921672 0.16738982 0.16799878 0.17698105 0.18131994 0.1760676\n",
            " 0.15810307 0.16130014 0.15170891 0.16891223 0.18345132 0.18801857\n",
            " 0.17195707 0.15703738 0.14143259 0.13458172 0.14714166 0.15345969\n",
            " 0.14539088 0.1556672  0.19989343 0.19220522 0.16267032 0.19311867\n",
            " 0.19517394 0.16541067 0.16152851 0.16708533 0.17073913 0.18345132\n",
            " 0.17743777 0.1560478  0.1487402  0.17586184]\n",
            "1 day output [[0.17352314]]\n",
            "2 day input [0.38021009 0.38585674 0.40237497 0.40633326 0.40252721 0.39651366\n",
            " 0.39148969 0.3893583  0.39285986 0.40298394 0.39933014 0.38174621\n",
            " 0.39940626 0.38683946 0.36248763 0.34109766 0.35137322 0.35662632\n",
            " 0.33280049 0.30714775 0.28842201 0.3011342  0.31095379 0.29177133\n",
            " 0.27662328 0.2581259  0.26421557 0.27296948 0.26177971 0.25272132\n",
            " 0.23742102 0.23353886 0.2253178  0.17561087 0.1622136  0.15307909\n",
            " 0.14409683 0.11791124 0.17778032 0.16160463 0.15696125 0.1520134\n",
            " 0.16434498 0.14683718 0.13199361 0.16038669 0.15878816 0.13366827\n",
            " 0.12240237 0.12856817 0.13001446 0.13602725 0.14698942 0.15262236\n",
            " 0.16244196 0.17081525 0.16274644 0.15855979 0.17340336 0.16541067\n",
            " 0.1866484  0.18923651 0.17393621 0.16335541 0.16449722 0.16921672\n",
            " 0.16738982 0.16799878 0.17698105 0.18131994 0.1760676  0.15810307\n",
            " 0.16130014 0.15170891 0.16891223 0.18345132 0.18801857 0.17195707\n",
            " 0.15703738 0.14143259 0.13458172 0.14714166 0.15345969 0.14539088\n",
            " 0.1556672  0.19989343 0.19220522 0.16267032 0.19311867 0.19517394\n",
            " 0.16541067 0.16152851 0.16708533 0.17073913 0.18345132 0.17743777\n",
            " 0.1560478  0.1487402  0.17586184 0.17352314]\n",
            "2 day output [[0.17229542]]\n",
            "3 day input [0.38585674 0.40237497 0.40633326 0.40252721 0.39651366 0.39148969\n",
            " 0.3893583  0.39285986 0.40298394 0.39933014 0.38174621 0.39940626\n",
            " 0.38683946 0.36248763 0.34109766 0.35137322 0.35662632 0.33280049\n",
            " 0.30714775 0.28842201 0.3011342  0.31095379 0.29177133 0.27662328\n",
            " 0.2581259  0.26421557 0.27296948 0.26177971 0.25272132 0.23742102\n",
            " 0.23353886 0.2253178  0.17561087 0.1622136  0.15307909 0.14409683\n",
            " 0.11791124 0.17778032 0.16160463 0.15696125 0.1520134  0.16434498\n",
            " 0.14683718 0.13199361 0.16038669 0.15878816 0.13366827 0.12240237\n",
            " 0.12856817 0.13001446 0.13602725 0.14698942 0.15262236 0.16244196\n",
            " 0.17081525 0.16274644 0.15855979 0.17340336 0.16541067 0.1866484\n",
            " 0.18923651 0.17393621 0.16335541 0.16449722 0.16921672 0.16738982\n",
            " 0.16799878 0.17698105 0.18131994 0.1760676  0.15810307 0.16130014\n",
            " 0.15170891 0.16891223 0.18345132 0.18801857 0.17195707 0.15703738\n",
            " 0.14143259 0.13458172 0.14714166 0.15345969 0.14539088 0.1556672\n",
            " 0.19989343 0.19220522 0.16267032 0.19311867 0.19517394 0.16541067\n",
            " 0.16152851 0.16708533 0.17073913 0.18345132 0.17743777 0.1560478\n",
            " 0.1487402  0.17586184 0.17352314 0.17229542]\n",
            "3 day output [[0.17211598]]\n",
            "4 day input [0.40237497 0.40633326 0.40252721 0.39651366 0.39148969 0.3893583\n",
            " 0.39285986 0.40298394 0.39933014 0.38174621 0.39940626 0.38683946\n",
            " 0.36248763 0.34109766 0.35137322 0.35662632 0.33280049 0.30714775\n",
            " 0.28842201 0.3011342  0.31095379 0.29177133 0.27662328 0.2581259\n",
            " 0.26421557 0.27296948 0.26177971 0.25272132 0.23742102 0.23353886\n",
            " 0.2253178  0.17561087 0.1622136  0.15307909 0.14409683 0.11791124\n",
            " 0.17778032 0.16160463 0.15696125 0.1520134  0.16434498 0.14683718\n",
            " 0.13199361 0.16038669 0.15878816 0.13366827 0.12240237 0.12856817\n",
            " 0.13001446 0.13602725 0.14698942 0.15262236 0.16244196 0.17081525\n",
            " 0.16274644 0.15855979 0.17340336 0.16541067 0.1866484  0.18923651\n",
            " 0.17393621 0.16335541 0.16449722 0.16921672 0.16738982 0.16799878\n",
            " 0.17698105 0.18131994 0.1760676  0.15810307 0.16130014 0.15170891\n",
            " 0.16891223 0.18345132 0.18801857 0.17195707 0.15703738 0.14143259\n",
            " 0.13458172 0.14714166 0.15345969 0.14539088 0.1556672  0.19989343\n",
            " 0.19220522 0.16267032 0.19311867 0.19517394 0.16541067 0.16152851\n",
            " 0.16708533 0.17073913 0.18345132 0.17743777 0.1560478  0.1487402\n",
            " 0.17586184 0.17352314 0.17229542 0.17211598]\n",
            "4 day output [[0.17272471]]\n",
            "5 day input [0.40633326 0.40252721 0.39651366 0.39148969 0.3893583  0.39285986\n",
            " 0.40298394 0.39933014 0.38174621 0.39940626 0.38683946 0.36248763\n",
            " 0.34109766 0.35137322 0.35662632 0.33280049 0.30714775 0.28842201\n",
            " 0.3011342  0.31095379 0.29177133 0.27662328 0.2581259  0.26421557\n",
            " 0.27296948 0.26177971 0.25272132 0.23742102 0.23353886 0.2253178\n",
            " 0.17561087 0.1622136  0.15307909 0.14409683 0.11791124 0.17778032\n",
            " 0.16160463 0.15696125 0.1520134  0.16434498 0.14683718 0.13199361\n",
            " 0.16038669 0.15878816 0.13366827 0.12240237 0.12856817 0.13001446\n",
            " 0.13602725 0.14698942 0.15262236 0.16244196 0.17081525 0.16274644\n",
            " 0.15855979 0.17340336 0.16541067 0.1866484  0.18923651 0.17393621\n",
            " 0.16335541 0.16449722 0.16921672 0.16738982 0.16799878 0.17698105\n",
            " 0.18131994 0.1760676  0.15810307 0.16130014 0.15170891 0.16891223\n",
            " 0.18345132 0.18801857 0.17195707 0.15703738 0.14143259 0.13458172\n",
            " 0.14714166 0.15345969 0.14539088 0.1556672  0.19989343 0.19220522\n",
            " 0.16267032 0.19311867 0.19517394 0.16541067 0.16152851 0.16708533\n",
            " 0.17073913 0.18345132 0.17743777 0.1560478  0.1487402  0.17586184\n",
            " 0.17352314 0.17229542 0.17211598 0.17272471]\n",
            "5 day output [[0.17383711]]\n",
            "6 day input [0.40252721 0.39651366 0.39148969 0.3893583  0.39285986 0.40298394\n",
            " 0.39933014 0.38174621 0.39940626 0.38683946 0.36248763 0.34109766\n",
            " 0.35137322 0.35662632 0.33280049 0.30714775 0.28842201 0.3011342\n",
            " 0.31095379 0.29177133 0.27662328 0.2581259  0.26421557 0.27296948\n",
            " 0.26177971 0.25272132 0.23742102 0.23353886 0.2253178  0.17561087\n",
            " 0.1622136  0.15307909 0.14409683 0.11791124 0.17778032 0.16160463\n",
            " 0.15696125 0.1520134  0.16434498 0.14683718 0.13199361 0.16038669\n",
            " 0.15878816 0.13366827 0.12240237 0.12856817 0.13001446 0.13602725\n",
            " 0.14698942 0.15262236 0.16244196 0.17081525 0.16274644 0.15855979\n",
            " 0.17340336 0.16541067 0.1866484  0.18923651 0.17393621 0.16335541\n",
            " 0.16449722 0.16921672 0.16738982 0.16799878 0.17698105 0.18131994\n",
            " 0.1760676  0.15810307 0.16130014 0.15170891 0.16891223 0.18345132\n",
            " 0.18801857 0.17195707 0.15703738 0.14143259 0.13458172 0.14714166\n",
            " 0.15345969 0.14539088 0.1556672  0.19989343 0.19220522 0.16267032\n",
            " 0.19311867 0.19517394 0.16541067 0.16152851 0.16708533 0.17073913\n",
            " 0.18345132 0.17743777 0.1560478  0.1487402  0.17586184 0.17352314\n",
            " 0.17229542 0.17211598 0.17272471 0.17383711]\n",
            "6 day output [[0.1752219]]\n",
            "7 day input [0.39651366 0.39148969 0.3893583  0.39285986 0.40298394 0.39933014\n",
            " 0.38174621 0.39940626 0.38683946 0.36248763 0.34109766 0.35137322\n",
            " 0.35662632 0.33280049 0.30714775 0.28842201 0.3011342  0.31095379\n",
            " 0.29177133 0.27662328 0.2581259  0.26421557 0.27296948 0.26177971\n",
            " 0.25272132 0.23742102 0.23353886 0.2253178  0.17561087 0.1622136\n",
            " 0.15307909 0.14409683 0.11791124 0.17778032 0.16160463 0.15696125\n",
            " 0.1520134  0.16434498 0.14683718 0.13199361 0.16038669 0.15878816\n",
            " 0.13366827 0.12240237 0.12856817 0.13001446 0.13602725 0.14698942\n",
            " 0.15262236 0.16244196 0.17081525 0.16274644 0.15855979 0.17340336\n",
            " 0.16541067 0.1866484  0.18923651 0.17393621 0.16335541 0.16449722\n",
            " 0.16921672 0.16738982 0.16799878 0.17698105 0.18131994 0.1760676\n",
            " 0.15810307 0.16130014 0.15170891 0.16891223 0.18345132 0.18801857\n",
            " 0.17195707 0.15703738 0.14143259 0.13458172 0.14714166 0.15345969\n",
            " 0.14539088 0.1556672  0.19989343 0.19220522 0.16267032 0.19311867\n",
            " 0.19517394 0.16541067 0.16152851 0.16708533 0.17073913 0.18345132\n",
            " 0.17743777 0.1560478  0.1487402  0.17586184 0.17352314 0.17229542\n",
            " 0.17211598 0.17272471 0.17383711 0.17522191]\n",
            "7 day output [[0.17672022]]\n",
            "8 day input [0.39148969 0.3893583  0.39285986 0.40298394 0.39933014 0.38174621\n",
            " 0.39940626 0.38683946 0.36248763 0.34109766 0.35137322 0.35662632\n",
            " 0.33280049 0.30714775 0.28842201 0.3011342  0.31095379 0.29177133\n",
            " 0.27662328 0.2581259  0.26421557 0.27296948 0.26177971 0.25272132\n",
            " 0.23742102 0.23353886 0.2253178  0.17561087 0.1622136  0.15307909\n",
            " 0.14409683 0.11791124 0.17778032 0.16160463 0.15696125 0.1520134\n",
            " 0.16434498 0.14683718 0.13199361 0.16038669 0.15878816 0.13366827\n",
            " 0.12240237 0.12856817 0.13001446 0.13602725 0.14698942 0.15262236\n",
            " 0.16244196 0.17081525 0.16274644 0.15855979 0.17340336 0.16541067\n",
            " 0.1866484  0.18923651 0.17393621 0.16335541 0.16449722 0.16921672\n",
            " 0.16738982 0.16799878 0.17698105 0.18131994 0.1760676  0.15810307\n",
            " 0.16130014 0.15170891 0.16891223 0.18345132 0.18801857 0.17195707\n",
            " 0.15703738 0.14143259 0.13458172 0.14714166 0.15345969 0.14539088\n",
            " 0.1556672  0.19989343 0.19220522 0.16267032 0.19311867 0.19517394\n",
            " 0.16541067 0.16152851 0.16708533 0.17073913 0.18345132 0.17743777\n",
            " 0.1560478  0.1487402  0.17586184 0.17352314 0.17229542 0.17211598\n",
            " 0.17272471 0.17383711 0.17522191 0.17672022]\n",
            "8 day output [[0.17823708]]\n",
            "9 day input [0.3893583  0.39285986 0.40298394 0.39933014 0.38174621 0.39940626\n",
            " 0.38683946 0.36248763 0.34109766 0.35137322 0.35662632 0.33280049\n",
            " 0.30714775 0.28842201 0.3011342  0.31095379 0.29177133 0.27662328\n",
            " 0.2581259  0.26421557 0.27296948 0.26177971 0.25272132 0.23742102\n",
            " 0.23353886 0.2253178  0.17561087 0.1622136  0.15307909 0.14409683\n",
            " 0.11791124 0.17778032 0.16160463 0.15696125 0.1520134  0.16434498\n",
            " 0.14683718 0.13199361 0.16038669 0.15878816 0.13366827 0.12240237\n",
            " 0.12856817 0.13001446 0.13602725 0.14698942 0.15262236 0.16244196\n",
            " 0.17081525 0.16274644 0.15855979 0.17340336 0.16541067 0.1866484\n",
            " 0.18923651 0.17393621 0.16335541 0.16449722 0.16921672 0.16738982\n",
            " 0.16799878 0.17698105 0.18131994 0.1760676  0.15810307 0.16130014\n",
            " 0.15170891 0.16891223 0.18345132 0.18801857 0.17195707 0.15703738\n",
            " 0.14143259 0.13458172 0.14714166 0.15345969 0.14539088 0.1556672\n",
            " 0.19989343 0.19220522 0.16267032 0.19311867 0.19517394 0.16541067\n",
            " 0.16152851 0.16708533 0.17073913 0.18345132 0.17743777 0.1560478\n",
            " 0.1487402  0.17586184 0.17352314 0.17229542 0.17211598 0.17272471\n",
            " 0.17383711 0.17522191 0.17672022 0.17823708]\n",
            "9 day output [[0.17972282]]\n",
            "10 day input [0.39285986 0.40298394 0.39933014 0.38174621 0.39940626 0.38683946\n",
            " 0.36248763 0.34109766 0.35137322 0.35662632 0.33280049 0.30714775\n",
            " 0.28842201 0.3011342  0.31095379 0.29177133 0.27662328 0.2581259\n",
            " 0.26421557 0.27296948 0.26177971 0.25272132 0.23742102 0.23353886\n",
            " 0.2253178  0.17561087 0.1622136  0.15307909 0.14409683 0.11791124\n",
            " 0.17778032 0.16160463 0.15696125 0.1520134  0.16434498 0.14683718\n",
            " 0.13199361 0.16038669 0.15878816 0.13366827 0.12240237 0.12856817\n",
            " 0.13001446 0.13602725 0.14698942 0.15262236 0.16244196 0.17081525\n",
            " 0.16274644 0.15855979 0.17340336 0.16541067 0.1866484  0.18923651\n",
            " 0.17393621 0.16335541 0.16449722 0.16921672 0.16738982 0.16799878\n",
            " 0.17698105 0.18131994 0.1760676  0.15810307 0.16130014 0.15170891\n",
            " 0.16891223 0.18345132 0.18801857 0.17195707 0.15703738 0.14143259\n",
            " 0.13458172 0.14714166 0.15345969 0.14539088 0.1556672  0.19989343\n",
            " 0.19220522 0.16267032 0.19311867 0.19517394 0.16541067 0.16152851\n",
            " 0.16708533 0.17073913 0.18345132 0.17743777 0.1560478  0.1487402\n",
            " 0.17586184 0.17352314 0.17229542 0.17211598 0.17272471 0.17383711\n",
            " 0.17522191 0.17672022 0.17823708 0.17972282]\n",
            "10 day output [[0.18115622]]\n",
            "11 day input [0.40298394 0.39933014 0.38174621 0.39940626 0.38683946 0.36248763\n",
            " 0.34109766 0.35137322 0.35662632 0.33280049 0.30714775 0.28842201\n",
            " 0.3011342  0.31095379 0.29177133 0.27662328 0.2581259  0.26421557\n",
            " 0.27296948 0.26177971 0.25272132 0.23742102 0.23353886 0.2253178\n",
            " 0.17561087 0.1622136  0.15307909 0.14409683 0.11791124 0.17778032\n",
            " 0.16160463 0.15696125 0.1520134  0.16434498 0.14683718 0.13199361\n",
            " 0.16038669 0.15878816 0.13366827 0.12240237 0.12856817 0.13001446\n",
            " 0.13602725 0.14698942 0.15262236 0.16244196 0.17081525 0.16274644\n",
            " 0.15855979 0.17340336 0.16541067 0.1866484  0.18923651 0.17393621\n",
            " 0.16335541 0.16449722 0.16921672 0.16738982 0.16799878 0.17698105\n",
            " 0.18131994 0.1760676  0.15810307 0.16130014 0.15170891 0.16891223\n",
            " 0.18345132 0.18801857 0.17195707 0.15703738 0.14143259 0.13458172\n",
            " 0.14714166 0.15345969 0.14539088 0.1556672  0.19989343 0.19220522\n",
            " 0.16267032 0.19311867 0.19517394 0.16541067 0.16152851 0.16708533\n",
            " 0.17073913 0.18345132 0.17743777 0.1560478  0.1487402  0.17586184\n",
            " 0.17352314 0.17229542 0.17211598 0.17272471 0.17383711 0.17522191\n",
            " 0.17672022 0.17823708 0.17972282 0.18115622]\n",
            "11 day output [[0.18253087]]\n",
            "12 day input [0.39933014 0.38174621 0.39940626 0.38683946 0.36248763 0.34109766\n",
            " 0.35137322 0.35662632 0.33280049 0.30714775 0.28842201 0.3011342\n",
            " 0.31095379 0.29177133 0.27662328 0.2581259  0.26421557 0.27296948\n",
            " 0.26177971 0.25272132 0.23742102 0.23353886 0.2253178  0.17561087\n",
            " 0.1622136  0.15307909 0.14409683 0.11791124 0.17778032 0.16160463\n",
            " 0.15696125 0.1520134  0.16434498 0.14683718 0.13199361 0.16038669\n",
            " 0.15878816 0.13366827 0.12240237 0.12856817 0.13001446 0.13602725\n",
            " 0.14698942 0.15262236 0.16244196 0.17081525 0.16274644 0.15855979\n",
            " 0.17340336 0.16541067 0.1866484  0.18923651 0.17393621 0.16335541\n",
            " 0.16449722 0.16921672 0.16738982 0.16799878 0.17698105 0.18131994\n",
            " 0.1760676  0.15810307 0.16130014 0.15170891 0.16891223 0.18345132\n",
            " 0.18801857 0.17195707 0.15703738 0.14143259 0.13458172 0.14714166\n",
            " 0.15345969 0.14539088 0.1556672  0.19989343 0.19220522 0.16267032\n",
            " 0.19311867 0.19517394 0.16541067 0.16152851 0.16708533 0.17073913\n",
            " 0.18345132 0.17743777 0.1560478  0.1487402  0.17586184 0.17352314\n",
            " 0.17229542 0.17211598 0.17272471 0.17383711 0.17522191 0.17672022\n",
            " 0.17823708 0.17972282 0.18115622 0.18253087]\n",
            "12 day output [[0.18384719]]\n",
            "13 day input [0.38174621 0.39940626 0.38683946 0.36248763 0.34109766 0.35137322\n",
            " 0.35662632 0.33280049 0.30714775 0.28842201 0.3011342  0.31095379\n",
            " 0.29177133 0.27662328 0.2581259  0.26421557 0.27296948 0.26177971\n",
            " 0.25272132 0.23742102 0.23353886 0.2253178  0.17561087 0.1622136\n",
            " 0.15307909 0.14409683 0.11791124 0.17778032 0.16160463 0.15696125\n",
            " 0.1520134  0.16434498 0.14683718 0.13199361 0.16038669 0.15878816\n",
            " 0.13366827 0.12240237 0.12856817 0.13001446 0.13602725 0.14698942\n",
            " 0.15262236 0.16244196 0.17081525 0.16274644 0.15855979 0.17340336\n",
            " 0.16541067 0.1866484  0.18923651 0.17393621 0.16335541 0.16449722\n",
            " 0.16921672 0.16738982 0.16799878 0.17698105 0.18131994 0.1760676\n",
            " 0.15810307 0.16130014 0.15170891 0.16891223 0.18345132 0.18801857\n",
            " 0.17195707 0.15703738 0.14143259 0.13458172 0.14714166 0.15345969\n",
            " 0.14539088 0.1556672  0.19989343 0.19220522 0.16267032 0.19311867\n",
            " 0.19517394 0.16541067 0.16152851 0.16708533 0.17073913 0.18345132\n",
            " 0.17743777 0.1560478  0.1487402  0.17586184 0.17352314 0.17229542\n",
            " 0.17211598 0.17272471 0.17383711 0.17522191 0.17672022 0.17823708\n",
            " 0.17972282 0.18115622 0.18253087 0.18384719]\n",
            "13 day output [[0.1851084]]\n",
            "14 day input [0.39940626 0.38683946 0.36248763 0.34109766 0.35137322 0.35662632\n",
            " 0.33280049 0.30714775 0.28842201 0.3011342  0.31095379 0.29177133\n",
            " 0.27662328 0.2581259  0.26421557 0.27296948 0.26177971 0.25272132\n",
            " 0.23742102 0.23353886 0.2253178  0.17561087 0.1622136  0.15307909\n",
            " 0.14409683 0.11791124 0.17778032 0.16160463 0.15696125 0.1520134\n",
            " 0.16434498 0.14683718 0.13199361 0.16038669 0.15878816 0.13366827\n",
            " 0.12240237 0.12856817 0.13001446 0.13602725 0.14698942 0.15262236\n",
            " 0.16244196 0.17081525 0.16274644 0.15855979 0.17340336 0.16541067\n",
            " 0.1866484  0.18923651 0.17393621 0.16335541 0.16449722 0.16921672\n",
            " 0.16738982 0.16799878 0.17698105 0.18131994 0.1760676  0.15810307\n",
            " 0.16130014 0.15170891 0.16891223 0.18345132 0.18801857 0.17195707\n",
            " 0.15703738 0.14143259 0.13458172 0.14714166 0.15345969 0.14539088\n",
            " 0.1556672  0.19989343 0.19220522 0.16267032 0.19311867 0.19517394\n",
            " 0.16541067 0.16152851 0.16708533 0.17073913 0.18345132 0.17743777\n",
            " 0.1560478  0.1487402  0.17586184 0.17352314 0.17229542 0.17211598\n",
            " 0.17272471 0.17383711 0.17522191 0.17672022 0.17823708 0.17972282\n",
            " 0.18115622 0.18253087 0.18384719 0.18510839]\n",
            "14 day output [[0.18631823]]\n",
            "15 day input [0.38683946 0.36248763 0.34109766 0.35137322 0.35662632 0.33280049\n",
            " 0.30714775 0.28842201 0.3011342  0.31095379 0.29177133 0.27662328\n",
            " 0.2581259  0.26421557 0.27296948 0.26177971 0.25272132 0.23742102\n",
            " 0.23353886 0.2253178  0.17561087 0.1622136  0.15307909 0.14409683\n",
            " 0.11791124 0.17778032 0.16160463 0.15696125 0.1520134  0.16434498\n",
            " 0.14683718 0.13199361 0.16038669 0.15878816 0.13366827 0.12240237\n",
            " 0.12856817 0.13001446 0.13602725 0.14698942 0.15262236 0.16244196\n",
            " 0.17081525 0.16274644 0.15855979 0.17340336 0.16541067 0.1866484\n",
            " 0.18923651 0.17393621 0.16335541 0.16449722 0.16921672 0.16738982\n",
            " 0.16799878 0.17698105 0.18131994 0.1760676  0.15810307 0.16130014\n",
            " 0.15170891 0.16891223 0.18345132 0.18801857 0.17195707 0.15703738\n",
            " 0.14143259 0.13458172 0.14714166 0.15345969 0.14539088 0.1556672\n",
            " 0.19989343 0.19220522 0.16267032 0.19311867 0.19517394 0.16541067\n",
            " 0.16152851 0.16708533 0.17073913 0.18345132 0.17743777 0.1560478\n",
            " 0.1487402  0.17586184 0.17352314 0.17229542 0.17211598 0.17272471\n",
            " 0.17383711 0.17522191 0.17672022 0.17823708 0.17972282 0.18115622\n",
            " 0.18253087 0.18384719 0.18510839 0.18631823]\n",
            "15 day output [[0.18748051]]\n",
            "16 day input [0.36248763 0.34109766 0.35137322 0.35662632 0.33280049 0.30714775\n",
            " 0.28842201 0.3011342  0.31095379 0.29177133 0.27662328 0.2581259\n",
            " 0.26421557 0.27296948 0.26177971 0.25272132 0.23742102 0.23353886\n",
            " 0.2253178  0.17561087 0.1622136  0.15307909 0.14409683 0.11791124\n",
            " 0.17778032 0.16160463 0.15696125 0.1520134  0.16434498 0.14683718\n",
            " 0.13199361 0.16038669 0.15878816 0.13366827 0.12240237 0.12856817\n",
            " 0.13001446 0.13602725 0.14698942 0.15262236 0.16244196 0.17081525\n",
            " 0.16274644 0.15855979 0.17340336 0.16541067 0.1866484  0.18923651\n",
            " 0.17393621 0.16335541 0.16449722 0.16921672 0.16738982 0.16799878\n",
            " 0.17698105 0.18131994 0.1760676  0.15810307 0.16130014 0.15170891\n",
            " 0.16891223 0.18345132 0.18801857 0.17195707 0.15703738 0.14143259\n",
            " 0.13458172 0.14714166 0.15345969 0.14539088 0.1556672  0.19989343\n",
            " 0.19220522 0.16267032 0.19311867 0.19517394 0.16541067 0.16152851\n",
            " 0.16708533 0.17073913 0.18345132 0.17743777 0.1560478  0.1487402\n",
            " 0.17586184 0.17352314 0.17229542 0.17211598 0.17272471 0.17383711\n",
            " 0.17522191 0.17672022 0.17823708 0.17972282 0.18115622 0.18253087\n",
            " 0.18384719 0.18510839 0.18631823 0.18748051]\n",
            "16 day output [[0.18859912]]\n",
            "17 day input [0.34109766 0.35137322 0.35662632 0.33280049 0.30714775 0.28842201\n",
            " 0.3011342  0.31095379 0.29177133 0.27662328 0.2581259  0.26421557\n",
            " 0.27296948 0.26177971 0.25272132 0.23742102 0.23353886 0.2253178\n",
            " 0.17561087 0.1622136  0.15307909 0.14409683 0.11791124 0.17778032\n",
            " 0.16160463 0.15696125 0.1520134  0.16434498 0.14683718 0.13199361\n",
            " 0.16038669 0.15878816 0.13366827 0.12240237 0.12856817 0.13001446\n",
            " 0.13602725 0.14698942 0.15262236 0.16244196 0.17081525 0.16274644\n",
            " 0.15855979 0.17340336 0.16541067 0.1866484  0.18923651 0.17393621\n",
            " 0.16335541 0.16449722 0.16921672 0.16738982 0.16799878 0.17698105\n",
            " 0.18131994 0.1760676  0.15810307 0.16130014 0.15170891 0.16891223\n",
            " 0.18345132 0.18801857 0.17195707 0.15703738 0.14143259 0.13458172\n",
            " 0.14714166 0.15345969 0.14539088 0.1556672  0.19989343 0.19220522\n",
            " 0.16267032 0.19311867 0.19517394 0.16541067 0.16152851 0.16708533\n",
            " 0.17073913 0.18345132 0.17743777 0.1560478  0.1487402  0.17586184\n",
            " 0.17352314 0.17229542 0.17211598 0.17272471 0.17383711 0.17522191\n",
            " 0.17672022 0.17823708 0.17972282 0.18115622 0.18253087 0.18384719\n",
            " 0.18510839 0.18631823 0.18748051 0.18859912]\n",
            "17 day output [[0.189678]]\n",
            "18 day input [0.35137322 0.35662632 0.33280049 0.30714775 0.28842201 0.3011342\n",
            " 0.31095379 0.29177133 0.27662328 0.2581259  0.26421557 0.27296948\n",
            " 0.26177971 0.25272132 0.23742102 0.23353886 0.2253178  0.17561087\n",
            " 0.1622136  0.15307909 0.14409683 0.11791124 0.17778032 0.16160463\n",
            " 0.15696125 0.1520134  0.16434498 0.14683718 0.13199361 0.16038669\n",
            " 0.15878816 0.13366827 0.12240237 0.12856817 0.13001446 0.13602725\n",
            " 0.14698942 0.15262236 0.16244196 0.17081525 0.16274644 0.15855979\n",
            " 0.17340336 0.16541067 0.1866484  0.18923651 0.17393621 0.16335541\n",
            " 0.16449722 0.16921672 0.16738982 0.16799878 0.17698105 0.18131994\n",
            " 0.1760676  0.15810307 0.16130014 0.15170891 0.16891223 0.18345132\n",
            " 0.18801857 0.17195707 0.15703738 0.14143259 0.13458172 0.14714166\n",
            " 0.15345969 0.14539088 0.1556672  0.19989343 0.19220522 0.16267032\n",
            " 0.19311867 0.19517394 0.16541067 0.16152851 0.16708533 0.17073913\n",
            " 0.18345132 0.17743777 0.1560478  0.1487402  0.17586184 0.17352314\n",
            " 0.17229542 0.17211598 0.17272471 0.17383711 0.17522191 0.17672022\n",
            " 0.17823708 0.17972282 0.18115622 0.18253087 0.18384719 0.18510839\n",
            " 0.18631823 0.18748051 0.18859912 0.189678  ]\n",
            "18 day output [[0.19072129]]\n",
            "19 day input [0.35662632 0.33280049 0.30714775 0.28842201 0.3011342  0.31095379\n",
            " 0.29177133 0.27662328 0.2581259  0.26421557 0.27296948 0.26177971\n",
            " 0.25272132 0.23742102 0.23353886 0.2253178  0.17561087 0.1622136\n",
            " 0.15307909 0.14409683 0.11791124 0.17778032 0.16160463 0.15696125\n",
            " 0.1520134  0.16434498 0.14683718 0.13199361 0.16038669 0.15878816\n",
            " 0.13366827 0.12240237 0.12856817 0.13001446 0.13602725 0.14698942\n",
            " 0.15262236 0.16244196 0.17081525 0.16274644 0.15855979 0.17340336\n",
            " 0.16541067 0.1866484  0.18923651 0.17393621 0.16335541 0.16449722\n",
            " 0.16921672 0.16738982 0.16799878 0.17698105 0.18131994 0.1760676\n",
            " 0.15810307 0.16130014 0.15170891 0.16891223 0.18345132 0.18801857\n",
            " 0.17195707 0.15703738 0.14143259 0.13458172 0.14714166 0.15345969\n",
            " 0.14539088 0.1556672  0.19989343 0.19220522 0.16267032 0.19311867\n",
            " 0.19517394 0.16541067 0.16152851 0.16708533 0.17073913 0.18345132\n",
            " 0.17743777 0.1560478  0.1487402  0.17586184 0.17352314 0.17229542\n",
            " 0.17211598 0.17272471 0.17383711 0.17522191 0.17672022 0.17823708\n",
            " 0.17972282 0.18115622 0.18253087 0.18384719 0.18510839 0.18631823\n",
            " 0.18748051 0.18859912 0.189678   0.19072129]\n",
            "19 day output [[0.19173312]]\n",
            "20 day input [0.33280049 0.30714775 0.28842201 0.3011342  0.31095379 0.29177133\n",
            " 0.27662328 0.2581259  0.26421557 0.27296948 0.26177971 0.25272132\n",
            " 0.23742102 0.23353886 0.2253178  0.17561087 0.1622136  0.15307909\n",
            " 0.14409683 0.11791124 0.17778032 0.16160463 0.15696125 0.1520134\n",
            " 0.16434498 0.14683718 0.13199361 0.16038669 0.15878816 0.13366827\n",
            " 0.12240237 0.12856817 0.13001446 0.13602725 0.14698942 0.15262236\n",
            " 0.16244196 0.17081525 0.16274644 0.15855979 0.17340336 0.16541067\n",
            " 0.1866484  0.18923651 0.17393621 0.16335541 0.16449722 0.16921672\n",
            " 0.16738982 0.16799878 0.17698105 0.18131994 0.1760676  0.15810307\n",
            " 0.16130014 0.15170891 0.16891223 0.18345132 0.18801857 0.17195707\n",
            " 0.15703738 0.14143259 0.13458172 0.14714166 0.15345969 0.14539088\n",
            " 0.1556672  0.19989343 0.19220522 0.16267032 0.19311867 0.19517394\n",
            " 0.16541067 0.16152851 0.16708533 0.17073913 0.18345132 0.17743777\n",
            " 0.1560478  0.1487402  0.17586184 0.17352314 0.17229542 0.17211598\n",
            " 0.17272471 0.17383711 0.17522191 0.17672022 0.17823708 0.17972282\n",
            " 0.18115622 0.18253087 0.18384719 0.18510839 0.18631823 0.18748051\n",
            " 0.18859912 0.189678   0.19072129 0.19173312]\n",
            "20 day output [[0.19271746]]\n",
            "21 day input [0.30714775 0.28842201 0.3011342  0.31095379 0.29177133 0.27662328\n",
            " 0.2581259  0.26421557 0.27296948 0.26177971 0.25272132 0.23742102\n",
            " 0.23353886 0.2253178  0.17561087 0.1622136  0.15307909 0.14409683\n",
            " 0.11791124 0.17778032 0.16160463 0.15696125 0.1520134  0.16434498\n",
            " 0.14683718 0.13199361 0.16038669 0.15878816 0.13366827 0.12240237\n",
            " 0.12856817 0.13001446 0.13602725 0.14698942 0.15262236 0.16244196\n",
            " 0.17081525 0.16274644 0.15855979 0.17340336 0.16541067 0.1866484\n",
            " 0.18923651 0.17393621 0.16335541 0.16449722 0.16921672 0.16738982\n",
            " 0.16799878 0.17698105 0.18131994 0.1760676  0.15810307 0.16130014\n",
            " 0.15170891 0.16891223 0.18345132 0.18801857 0.17195707 0.15703738\n",
            " 0.14143259 0.13458172 0.14714166 0.15345969 0.14539088 0.1556672\n",
            " 0.19989343 0.19220522 0.16267032 0.19311867 0.19517394 0.16541067\n",
            " 0.16152851 0.16708533 0.17073913 0.18345132 0.17743777 0.1560478\n",
            " 0.1487402  0.17586184 0.17352314 0.17229542 0.17211598 0.17272471\n",
            " 0.17383711 0.17522191 0.17672022 0.17823708 0.17972282 0.18115622\n",
            " 0.18253087 0.18384719 0.18510839 0.18631823 0.18748051 0.18859912\n",
            " 0.189678   0.19072129 0.19173312 0.19271746]\n",
            "21 day output [[0.19367813]]\n",
            "22 day input [0.28842201 0.3011342  0.31095379 0.29177133 0.27662328 0.2581259\n",
            " 0.26421557 0.27296948 0.26177971 0.25272132 0.23742102 0.23353886\n",
            " 0.2253178  0.17561087 0.1622136  0.15307909 0.14409683 0.11791124\n",
            " 0.17778032 0.16160463 0.15696125 0.1520134  0.16434498 0.14683718\n",
            " 0.13199361 0.16038669 0.15878816 0.13366827 0.12240237 0.12856817\n",
            " 0.13001446 0.13602725 0.14698942 0.15262236 0.16244196 0.17081525\n",
            " 0.16274644 0.15855979 0.17340336 0.16541067 0.1866484  0.18923651\n",
            " 0.17393621 0.16335541 0.16449722 0.16921672 0.16738982 0.16799878\n",
            " 0.17698105 0.18131994 0.1760676  0.15810307 0.16130014 0.15170891\n",
            " 0.16891223 0.18345132 0.18801857 0.17195707 0.15703738 0.14143259\n",
            " 0.13458172 0.14714166 0.15345969 0.14539088 0.1556672  0.19989343\n",
            " 0.19220522 0.16267032 0.19311867 0.19517394 0.16541067 0.16152851\n",
            " 0.16708533 0.17073913 0.18345132 0.17743777 0.1560478  0.1487402\n",
            " 0.17586184 0.17352314 0.17229542 0.17211598 0.17272471 0.17383711\n",
            " 0.17522191 0.17672022 0.17823708 0.17972282 0.18115622 0.18253087\n",
            " 0.18384719 0.18510839 0.18631823 0.18748051 0.18859912 0.189678\n",
            " 0.19072129 0.19173312 0.19271746 0.19367813]\n",
            "22 day output [[0.19461843]]\n",
            "23 day input [0.3011342  0.31095379 0.29177133 0.27662328 0.2581259  0.26421557\n",
            " 0.27296948 0.26177971 0.25272132 0.23742102 0.23353886 0.2253178\n",
            " 0.17561087 0.1622136  0.15307909 0.14409683 0.11791124 0.17778032\n",
            " 0.16160463 0.15696125 0.1520134  0.16434498 0.14683718 0.13199361\n",
            " 0.16038669 0.15878816 0.13366827 0.12240237 0.12856817 0.13001446\n",
            " 0.13602725 0.14698942 0.15262236 0.16244196 0.17081525 0.16274644\n",
            " 0.15855979 0.17340336 0.16541067 0.1866484  0.18923651 0.17393621\n",
            " 0.16335541 0.16449722 0.16921672 0.16738982 0.16799878 0.17698105\n",
            " 0.18131994 0.1760676  0.15810307 0.16130014 0.15170891 0.16891223\n",
            " 0.18345132 0.18801857 0.17195707 0.15703738 0.14143259 0.13458172\n",
            " 0.14714166 0.15345969 0.14539088 0.1556672  0.19989343 0.19220522\n",
            " 0.16267032 0.19311867 0.19517394 0.16541067 0.16152851 0.16708533\n",
            " 0.17073913 0.18345132 0.17743777 0.1560478  0.1487402  0.17586184\n",
            " 0.17352314 0.17229542 0.17211598 0.17272471 0.17383711 0.17522191\n",
            " 0.17672022 0.17823708 0.17972282 0.18115622 0.18253087 0.18384719\n",
            " 0.18510839 0.18631823 0.18748051 0.18859912 0.189678   0.19072129\n",
            " 0.19173312 0.19271746 0.19367813 0.19461843]\n",
            "23 day output [[0.19554125]]\n",
            "24 day input [0.31095379 0.29177133 0.27662328 0.2581259  0.26421557 0.27296948\n",
            " 0.26177971 0.25272132 0.23742102 0.23353886 0.2253178  0.17561087\n",
            " 0.1622136  0.15307909 0.14409683 0.11791124 0.17778032 0.16160463\n",
            " 0.15696125 0.1520134  0.16434498 0.14683718 0.13199361 0.16038669\n",
            " 0.15878816 0.13366827 0.12240237 0.12856817 0.13001446 0.13602725\n",
            " 0.14698942 0.15262236 0.16244196 0.17081525 0.16274644 0.15855979\n",
            " 0.17340336 0.16541067 0.1866484  0.18923651 0.17393621 0.16335541\n",
            " 0.16449722 0.16921672 0.16738982 0.16799878 0.17698105 0.18131994\n",
            " 0.1760676  0.15810307 0.16130014 0.15170891 0.16891223 0.18345132\n",
            " 0.18801857 0.17195707 0.15703738 0.14143259 0.13458172 0.14714166\n",
            " 0.15345969 0.14539088 0.1556672  0.19989343 0.19220522 0.16267032\n",
            " 0.19311867 0.19517394 0.16541067 0.16152851 0.16708533 0.17073913\n",
            " 0.18345132 0.17743777 0.1560478  0.1487402  0.17586184 0.17352314\n",
            " 0.17229542 0.17211598 0.17272471 0.17383711 0.17522191 0.17672022\n",
            " 0.17823708 0.17972282 0.18115622 0.18253087 0.18384719 0.18510839\n",
            " 0.18631823 0.18748051 0.18859912 0.189678   0.19072129 0.19173312\n",
            " 0.19271746 0.19367813 0.19461843 0.19554125]\n",
            "24 day output [[0.19644876]]\n",
            "25 day input [0.29177133 0.27662328 0.2581259  0.26421557 0.27296948 0.26177971\n",
            " 0.25272132 0.23742102 0.23353886 0.2253178  0.17561087 0.1622136\n",
            " 0.15307909 0.14409683 0.11791124 0.17778032 0.16160463 0.15696125\n",
            " 0.1520134  0.16434498 0.14683718 0.13199361 0.16038669 0.15878816\n",
            " 0.13366827 0.12240237 0.12856817 0.13001446 0.13602725 0.14698942\n",
            " 0.15262236 0.16244196 0.17081525 0.16274644 0.15855979 0.17340336\n",
            " 0.16541067 0.1866484  0.18923651 0.17393621 0.16335541 0.16449722\n",
            " 0.16921672 0.16738982 0.16799878 0.17698105 0.18131994 0.1760676\n",
            " 0.15810307 0.16130014 0.15170891 0.16891223 0.18345132 0.18801857\n",
            " 0.17195707 0.15703738 0.14143259 0.13458172 0.14714166 0.15345969\n",
            " 0.14539088 0.1556672  0.19989343 0.19220522 0.16267032 0.19311867\n",
            " 0.19517394 0.16541067 0.16152851 0.16708533 0.17073913 0.18345132\n",
            " 0.17743777 0.1560478  0.1487402  0.17586184 0.17352314 0.17229542\n",
            " 0.17211598 0.17272471 0.17383711 0.17522191 0.17672022 0.17823708\n",
            " 0.17972282 0.18115622 0.18253087 0.18384719 0.18510839 0.18631823\n",
            " 0.18748051 0.18859912 0.189678   0.19072129 0.19173312 0.19271746\n",
            " 0.19367813 0.19461843 0.19554125 0.19644876]\n",
            "25 day output [[0.19734281]]\n",
            "26 day input [0.27662328 0.2581259  0.26421557 0.27296948 0.26177971 0.25272132\n",
            " 0.23742102 0.23353886 0.2253178  0.17561087 0.1622136  0.15307909\n",
            " 0.14409683 0.11791124 0.17778032 0.16160463 0.15696125 0.1520134\n",
            " 0.16434498 0.14683718 0.13199361 0.16038669 0.15878816 0.13366827\n",
            " 0.12240237 0.12856817 0.13001446 0.13602725 0.14698942 0.15262236\n",
            " 0.16244196 0.17081525 0.16274644 0.15855979 0.17340336 0.16541067\n",
            " 0.1866484  0.18923651 0.17393621 0.16335541 0.16449722 0.16921672\n",
            " 0.16738982 0.16799878 0.17698105 0.18131994 0.1760676  0.15810307\n",
            " 0.16130014 0.15170891 0.16891223 0.18345132 0.18801857 0.17195707\n",
            " 0.15703738 0.14143259 0.13458172 0.14714166 0.15345969 0.14539088\n",
            " 0.1556672  0.19989343 0.19220522 0.16267032 0.19311867 0.19517394\n",
            " 0.16541067 0.16152851 0.16708533 0.17073913 0.18345132 0.17743777\n",
            " 0.1560478  0.1487402  0.17586184 0.17352314 0.17229542 0.17211598\n",
            " 0.17272471 0.17383711 0.17522191 0.17672022 0.17823708 0.17972282\n",
            " 0.18115622 0.18253087 0.18384719 0.18510839 0.18631823 0.18748051\n",
            " 0.18859912 0.189678   0.19072129 0.19173312 0.19271746 0.19367813\n",
            " 0.19461843 0.19554125 0.19644876 0.19734281]\n",
            "26 day output [[0.19822468]]\n",
            "27 day input [0.2581259  0.26421557 0.27296948 0.26177971 0.25272132 0.23742102\n",
            " 0.23353886 0.2253178  0.17561087 0.1622136  0.15307909 0.14409683\n",
            " 0.11791124 0.17778032 0.16160463 0.15696125 0.1520134  0.16434498\n",
            " 0.14683718 0.13199361 0.16038669 0.15878816 0.13366827 0.12240237\n",
            " 0.12856817 0.13001446 0.13602725 0.14698942 0.15262236 0.16244196\n",
            " 0.17081525 0.16274644 0.15855979 0.17340336 0.16541067 0.1866484\n",
            " 0.18923651 0.17393621 0.16335541 0.16449722 0.16921672 0.16738982\n",
            " 0.16799878 0.17698105 0.18131994 0.1760676  0.15810307 0.16130014\n",
            " 0.15170891 0.16891223 0.18345132 0.18801857 0.17195707 0.15703738\n",
            " 0.14143259 0.13458172 0.14714166 0.15345969 0.14539088 0.1556672\n",
            " 0.19989343 0.19220522 0.16267032 0.19311867 0.19517394 0.16541067\n",
            " 0.16152851 0.16708533 0.17073913 0.18345132 0.17743777 0.1560478\n",
            " 0.1487402  0.17586184 0.17352314 0.17229542 0.17211598 0.17272471\n",
            " 0.17383711 0.17522191 0.17672022 0.17823708 0.17972282 0.18115622\n",
            " 0.18253087 0.18384719 0.18510839 0.18631823 0.18748051 0.18859912\n",
            " 0.189678   0.19072129 0.19173312 0.19271746 0.19367813 0.19461843\n",
            " 0.19554125 0.19644876 0.19734281 0.19822468]\n",
            "27 day output [[0.19909504]]\n",
            "28 day input [0.26421557 0.27296948 0.26177971 0.25272132 0.23742102 0.23353886\n",
            " 0.2253178  0.17561087 0.1622136  0.15307909 0.14409683 0.11791124\n",
            " 0.17778032 0.16160463 0.15696125 0.1520134  0.16434498 0.14683718\n",
            " 0.13199361 0.16038669 0.15878816 0.13366827 0.12240237 0.12856817\n",
            " 0.13001446 0.13602725 0.14698942 0.15262236 0.16244196 0.17081525\n",
            " 0.16274644 0.15855979 0.17340336 0.16541067 0.1866484  0.18923651\n",
            " 0.17393621 0.16335541 0.16449722 0.16921672 0.16738982 0.16799878\n",
            " 0.17698105 0.18131994 0.1760676  0.15810307 0.16130014 0.15170891\n",
            " 0.16891223 0.18345132 0.18801857 0.17195707 0.15703738 0.14143259\n",
            " 0.13458172 0.14714166 0.15345969 0.14539088 0.1556672  0.19989343\n",
            " 0.19220522 0.16267032 0.19311867 0.19517394 0.16541067 0.16152851\n",
            " 0.16708533 0.17073913 0.18345132 0.17743777 0.1560478  0.1487402\n",
            " 0.17586184 0.17352314 0.17229542 0.17211598 0.17272471 0.17383711\n",
            " 0.17522191 0.17672022 0.17823708 0.17972282 0.18115622 0.18253087\n",
            " 0.18384719 0.18510839 0.18631823 0.18748051 0.18859912 0.189678\n",
            " 0.19072129 0.19173312 0.19271746 0.19367813 0.19461843 0.19554125\n",
            " 0.19644876 0.19734281 0.19822468 0.19909504]\n",
            "28 day output [[0.1999544]]\n",
            "29 day input [0.27296948 0.26177971 0.25272132 0.23742102 0.23353886 0.2253178\n",
            " 0.17561087 0.1622136  0.15307909 0.14409683 0.11791124 0.17778032\n",
            " 0.16160463 0.15696125 0.1520134  0.16434498 0.14683718 0.13199361\n",
            " 0.16038669 0.15878816 0.13366827 0.12240237 0.12856817 0.13001446\n",
            " 0.13602725 0.14698942 0.15262236 0.16244196 0.17081525 0.16274644\n",
            " 0.15855979 0.17340336 0.16541067 0.1866484  0.18923651 0.17393621\n",
            " 0.16335541 0.16449722 0.16921672 0.16738982 0.16799878 0.17698105\n",
            " 0.18131994 0.1760676  0.15810307 0.16130014 0.15170891 0.16891223\n",
            " 0.18345132 0.18801857 0.17195707 0.15703738 0.14143259 0.13458172\n",
            " 0.14714166 0.15345969 0.14539088 0.1556672  0.19989343 0.19220522\n",
            " 0.16267032 0.19311867 0.19517394 0.16541067 0.16152851 0.16708533\n",
            " 0.17073913 0.18345132 0.17743777 0.1560478  0.1487402  0.17586184\n",
            " 0.17352314 0.17229542 0.17211598 0.17272471 0.17383711 0.17522191\n",
            " 0.17672022 0.17823708 0.17972282 0.18115622 0.18253087 0.18384719\n",
            " 0.18510839 0.18631823 0.18748051 0.18859912 0.189678   0.19072129\n",
            " 0.19173312 0.19271746 0.19367813 0.19461843 0.19554125 0.19644876\n",
            " 0.19734281 0.19822468 0.19909504 0.19995441]\n",
            "29 day output [[0.20080295]]\n",
            "[[0.17586183547973633], [0.17352314293384552], [0.17229542136192322], [0.1721159815788269], [0.17272470891475677], [0.1738371104001999], [0.17522190511226654], [0.17672021687030792], [0.17823708057403564], [0.17972281575202942], [0.1811562180519104], [0.18253086507320404], [0.18384718894958496], [0.18510839343070984], [0.18631823360919952], [0.18748050928115845], [0.1885991245508194], [0.18967799842357635], [0.1907212883234024], [0.19173312187194824], [0.19271746277809143], [0.1936781257390976], [0.19461843371391296], [0.19554124772548676], [0.19644875824451447], [0.19734281301498413], [0.19822467863559723], [0.19909504055976868], [0.19995440542697906], [0.20080295205116272]]\n"
          ]
        }
      ]
    },
    {
      "cell_type": "code",
      "source": [
        "day_new=np.arange(1,101)\n",
        "day_pred=np.arange(101,131)"
      ],
      "metadata": {
        "id": "OBVvlVNbU5qb"
      },
      "execution_count": null,
      "outputs": []
    },
    {
      "cell_type": "code",
      "source": [
        "import matplotlib.pyplot as plt\n",
        "len(df1)"
      ],
      "metadata": {
        "colab": {
          "base_uri": "https://localhost:8080/"
        },
        "id": "U9wRuwWwU749",
        "outputId": "ee168a55-9e59-4139-bcdc-98aaedebc074"
      },
      "execution_count": null,
      "outputs": [
        {
          "output_type": "execute_result",
          "data": {
            "text/plain": [
              "1259"
            ]
          },
          "metadata": {},
          "execution_count": 28
        }
      ]
    },
    {
      "cell_type": "markdown",
      "source": [
        "##COMPARAÇÃO COM O DATAFRAME INICIAL"
      ],
      "metadata": {
        "id": "rvyiToZvqODl"
      }
    },
    {
      "cell_type": "markdown",
      "source": [
        "Para conseguirmos plotar a previsão no mesmo gráfico do valor original será necessário retornamos a forma original e subtrair do valor acima o número de dias considerado (100). "
      ],
      "metadata": {
        "id": "fIyRcSoAp3gV"
      }
    },
    {
      "cell_type": "code",
      "source": [
        "plt.plot(day_new,scaler.inverse_transform(df1[1159:]))\n",
        "plt.plot(day_pred,scaler.inverse_transform(lst_output))"
      ],
      "metadata": {
        "colab": {
          "base_uri": "https://localhost:8080/",
          "height": 282
        },
        "id": "5PaRkxiXU9FB",
        "outputId": "59336484-c908-444b-a5e8-a517824c33f0"
      },
      "execution_count": null,
      "outputs": [
        {
          "output_type": "execute_result",
          "data": {
            "text/plain": [
              "[<matplotlib.lines.Line2D at 0x7f2dc39a7290>]"
            ]
          },
          "metadata": {},
          "execution_count": 29
        },
        {
          "output_type": "display_data",
          "data": {
            "text/plain": [
              "<Figure size 432x288 with 1 Axes>"
            ],
            "image/png": "[encoded data removed]"
          },
          "metadata": {
            "needs_background": "light"
          }
        }
      ]
    },
    {
      "cell_type": "code",
      "source": [
        "df3=df1.tolist()\n",
        "df3.extend(lst_output)\n",
        "plt.plot(df3[1159:])"
      ],
      "metadata": {
        "colab": {
          "base_uri": "https://localhost:8080/",
          "height": 282
        },
        "id": "wVsCdF4wEE76",
        "outputId": "9d3a3f65-f480-44ef-fb44-71145572eb1c"
      },
      "execution_count": null,
      "outputs": [
        {
          "output_type": "execute_result",
          "data": {
            "text/plain": [
              "[<matplotlib.lines.Line2D at 0x7f2dc396f4d0>]"
            ]
          },
          "metadata": {},
          "execution_count": 30
        },
        {
          "output_type": "display_data",
          "data": {
            "text/plain": [
              "<Figure size 432x288 with 1 Axes>"
            ],
            "image/png": "[encoded data removed]"
          },
          "metadata": {
            "needs_background": "light"
          }
        }
      ]
    },
    {
      "cell_type": "markdown",
      "source": [
        "#EXTRA: PONTO DE SUPORTE"
      ],
      "metadata": {
        "id": "vJYJuuTmxPj3"
      }
    },
    {
      "cell_type": "markdown",
      "source": [
        "Além da previsão dos preços nos próximos dias, é muito interessante termos também uma ideia da previsão dos chamados pontos de suporte, ou seja, valores nos quais acima é interessante vender a ação para evitar uma perda expressiva e abaixo é interessante comprar para ganho na valorização. E para isso podemos usar um raciocinio semelhante ao acima. Afim de exemplificar a primeira opção de dataset, agora será utilizado a base de dados do site Yahoo finanças com o csv carregado diretamente ao colab."
      ],
      "metadata": {
        "id": "TRc0hLnZxciH"
      }
    },
    {
      "cell_type": "code",
      "source": [
        "df = pd.read_csv('MMM2.csv')\n",
        "df = df[['Date','Low']] #como queremos saber o mínimo para venda, usaremos aqui o menor valor de cada dia\n",
        "df"
      ],
      "metadata": {
        "colab": {
          "base_uri": "https://localhost:8080/",
          "height": 424
        },
        "id": "CYlwQunkxWaa",
        "outputId": "4d758fc9-e77f-4284-8438-8a37107334cb"
      },
      "execution_count": null,
      "outputs": [
        {
          "output_type": "execute_result",
          "data": {
            "text/plain": [
              "             Date         Low\n",
              "0      1962-01-02    4.125000\n",
              "1      1962-01-03    4.085938\n",
              "2      1962-01-04    4.187500\n",
              "3      1962-01-05    4.062500\n",
              "4      1962-01-08    4.031250\n",
              "...           ...         ...\n",
              "15197  2022-05-16  146.309998\n",
              "15198  2022-05-17  150.520004\n",
              "15199  2022-05-18  148.470001\n",
              "15200  2022-05-19  144.110001\n",
              "15201  2022-05-20  141.089996\n",
              "\n",
              "[15202 rows x 2 columns]"
            ],
            "text/html": [
              "\n",
              "  <div id=\"df-929a8145-e6f3-478a-866f-7609ba642608\">\n",
              "    <div class=\"colab-df-container\">\n",
              "      <div>\n",
              "<style scoped>\n",
              "    .dataframe tbody tr th:only-of-type {\n",
              "        vertical-align: middle;\n",
              "    }\n",
              "\n",
              "    .dataframe tbody tr th {\n",
              "        vertical-align: top;\n",
              "    }\n",
              "\n",
              "    .dataframe thead th {\n",
              "        text-align: right;\n",
              "    }\n",
              "</style>\n",
              "<table border=\"1\" class=\"dataframe\">\n",
              "  <thead>\n",
              "    <tr style=\"text-align: right;\">\n",
              "      <th></th>\n",
              "      <th>Date</th>\n",
              "      <th>Low</th>\n",
              "    </tr>\n",
              "  </thead>\n",
              "  <tbody>\n",
              "    <tr>\n",
              "      <th>0</th>\n",
              "      <td>1962-01-02</td>\n",
              "      <td>4.125000</td>\n",
              "    </tr>\n",
              "    <tr>\n",
              "      <th>1</th>\n",
              "      <td>1962-01-03</td>\n",
              "      <td>4.085938</td>\n",
              "    </tr>\n",
              "    <tr>\n",
              "      <th>2</th>\n",
              "      <td>1962-01-04</td>\n",
              "      <td>4.187500</td>\n",
              "    </tr>\n",
              "    <tr>\n",
              "      <th>3</th>\n",
              "      <td>1962-01-05</td>\n",
              "      <td>4.062500</td>\n",
              "    </tr>\n",
              "    <tr>\n",
              "      <th>4</th>\n",
              "      <td>1962-01-08</td>\n",
              "      <td>4.031250</td>\n",
              "    </tr>\n",
              "    <tr>\n",
              "      <th>...</th>\n",
              "      <td>...</td>\n",
              "      <td>...</td>\n",
              "    </tr>\n",
              "    <tr>\n",
              "      <th>15197</th>\n",
              "      <td>2022-05-16</td>\n",
              "      <td>146.309998</td>\n",
              "    </tr>\n",
              "    <tr>\n",
              "      <th>15198</th>\n",
              "      <td>2022-05-17</td>\n",
              "      <td>150.520004</td>\n",
              "    </tr>\n",
              "    <tr>\n",
              "      <th>15199</th>\n",
              "      <td>2022-05-18</td>\n",
              "      <td>148.470001</td>\n",
              "    </tr>\n",
              "    <tr>\n",
              "      <th>15200</th>\n",
              "      <td>2022-05-19</td>\n",
              "      <td>144.110001</td>\n",
              "    </tr>\n",
              "    <tr>\n",
              "      <th>15201</th>\n",
              "      <td>2022-05-20</td>\n",
              "      <td>141.089996</td>\n",
              "    </tr>\n",
              "  </tbody>\n",
              "</table>\n",
              "<p>15202 rows × 2 columns</p>\n",
              "</div>\n",
              "      <button class=\"colab-df-convert\" onclick=\"convertToInteractive('df-929a8145-e6f3-478a-866f-7609ba642608')\"\n",
              "              title=\"Convert this dataframe to an interactive table.\"\n",
              "              style=\"display:none;\">\n",
              "        \n",
              "  <svg xmlns=\"http://www.w3.org/2000/svg\" height=\"24px\"viewBox=\"0 0 24 24\"\n",
              "       width=\"24px\">\n",
              "    <path d=\"M0 0h24v24H0V0z\" fill=\"none\"/>\n",
              "    <path d=\"M18.56 5.44l.94 2.06.94-2.06 2.06-.94-2.06-.94-.94-2.06-.94 2.06-2.06.94zm-11 1L8.5 8.5l.94-2.06 2.06-.94-2.06-.94L8.5 2.5l-.94 2.06-2.06.94zm10 10l.94 2.06.94-2.06 2.06-.94-2.06-.94-.94-2.06-.94 2.06-2.06.94z\"/><path d=\"M17.41 7.96l-1.37-1.37c-.4-.4-.92-.59-1.43-.59-.52 0-1.04.2-1.43.59L10.3 9.45l-7.72 7.72c-.78.78-.78 2.05 0 2.83L4 21.41c.39.39.9.59 1.41.59.51 0 1.02-.2 1.41-.59l7.78-7.78 2.81-2.81c.8-.78.8-2.07 0-2.86zM5.41 20L4 18.59l7.72-7.72 1.47 1.35L5.41 20z\"/>\n",
              "  </svg>\n",
              "      </button>\n",
              "      \n",
              "  <style>\n",
              "    .colab-df-container {\n",
              "      display:flex;\n",
              "      flex-wrap:wrap;\n",
              "      gap: 12px;\n",
              "    }\n",
              "\n",
              "    .colab-df-convert {\n",
              "      background-color: #E8F0FE;\n",
              "      border: none;\n",
              "      border-radius: 50%;\n",
              "      cursor: pointer;\n",
              "      display: none;\n",
              "      fill: #1967D2;\n",
              "      height: 32px;\n",
              "      padding: 0 0 0 0;\n",
              "      width: 32px;\n",
              "    }\n",
              "\n",
              "    .colab-df-convert:hover {\n",
              "      background-color: #E2EBFA;\n",
              "      box-shadow: 0px 1px 2px rgba(60, 64, 67, 0.3), 0px 1px 3px 1px rgba(60, 64, 67, 0.15);\n",
              "      fill: #174EA6;\n",
              "    }\n",
              "\n",
              "    [theme=dark] .colab-df-convert {\n",
              "      background-color: #3B4455;\n",
              "      fill: #D2E3FC;\n",
              "    }\n",
              "\n",
              "    [theme=dark] .colab-df-convert:hover {\n",
              "      background-color: #434B5C;\n",
              "      box-shadow: 0px 1px 3px 1px rgba(0, 0, 0, 0.15);\n",
              "      filter: drop-shadow(0px 1px 2px rgba(0, 0, 0, 0.3));\n",
              "      fill: #FFFFFF;\n",
              "    }\n",
              "  </style>\n",
              "\n",
              "      <script>\n",
              "        const buttonEl =\n",
              "          document.querySelector('#df-929a8145-e6f3-478a-866f-7609ba642608 button.colab-df-convert');\n",
              "        buttonEl.style.display =\n",
              "          google.colab.kernel.accessAllowed ? 'block' : 'none';\n",
              "\n",
              "        async function convertToInteractive(key) {\n",
              "          const element = document.querySelector('#df-929a8145-e6f3-478a-866f-7609ba642608');\n",
              "          const dataTable =\n",
              "            await google.colab.kernel.invokeFunction('convertToInteractive',\n",
              "                                                     [key], {});\n",
              "          if (!dataTable) return;\n",
              "\n",
              "          const docLinkHtml = 'Like what you see? Visit the ' +\n",
              "            '<a target=\"_blank\" href=https://colab.research.google.com/notebooks/data_table.ipynb>data table notebook</a>'\n",
              "            + ' to learn more about interactive tables.';\n",
              "          element.innerHTML = '';\n",
              "          dataTable['output_type'] = 'display_data';\n",
              "          await google.colab.output.renderOutput(dataTable, element);\n",
              "          const docLink = document.createElement('div');\n",
              "          docLink.innerHTML = docLinkHtml;\n",
              "          element.appendChild(docLink);\n",
              "        }\n",
              "      </script>\n",
              "    </div>\n",
              "  </div>\n",
              "  "
            ]
          },
          "metadata": {},
          "execution_count": 31
        }
      ]
    },
    {
      "cell_type": "markdown",
      "source": [
        "Correção da data"
      ],
      "metadata": {
        "id": "Kuz1D_HFymcO"
      }
    },
    {
      "cell_type": "code",
      "source": [
        "import datetime\n",
        "\n",
        "def str_to_datetime(s):\n",
        "  split = s.split('-')\n",
        "  year, month, day = int(split[0]), int(split[1]), int(split[2])\n",
        "  return datetime.datetime(year=year, month=month, day=day)\n",
        "\n",
        "datetime_object = str_to_datetime('1980-12-11')\n",
        "datetime_object"
      ],
      "metadata": {
        "colab": {
          "base_uri": "https://localhost:8080/"
        },
        "id": "kb32xgcjydTe",
        "outputId": "d7518c37-1737-43f3-a21c-4dcade0b86e1"
      },
      "execution_count": null,
      "outputs": [
        {
          "output_type": "execute_result",
          "data": {
            "text/plain": [
              "datetime.datetime(1980, 12, 11, 0, 0)"
            ]
          },
          "metadata": {},
          "execution_count": 32
        }
      ]
    },
    {
      "cell_type": "code",
      "source": [
        "df['Date'] = df['Date'].apply(str_to_datetime)\n",
        "df['Date']"
      ],
      "metadata": {
        "colab": {
          "base_uri": "https://localhost:8080/"
        },
        "id": "UQId1W_5yjjH",
        "outputId": "d97ed99b-4ad2-4fc9-aea8-d753bebe78a9"
      },
      "execution_count": null,
      "outputs": [
        {
          "output_type": "execute_result",
          "data": {
            "text/plain": [
              "0       1962-01-02\n",
              "1       1962-01-03\n",
              "2       1962-01-04\n",
              "3       1962-01-05\n",
              "4       1962-01-08\n",
              "           ...    \n",
              "15197   2022-05-16\n",
              "15198   2022-05-17\n",
              "15199   2022-05-18\n",
              "15200   2022-05-19\n",
              "15201   2022-05-20\n",
              "Name: Date, Length: 15202, dtype: datetime64[ns]"
            ]
          },
          "metadata": {},
          "execution_count": 33
        }
      ]
    },
    {
      "cell_type": "code",
      "source": [
        "df.index = df.pop('Date')\n",
        "df"
      ],
      "metadata": {
        "colab": {
          "base_uri": "https://localhost:8080/",
          "height": 455
        },
        "id": "8gTpGyOEylun",
        "outputId": "4ca087f4-cf81-49c7-ea55-2f7d6d8fd866"
      },
      "execution_count": null,
      "outputs": [
        {
          "output_type": "execute_result",
          "data": {
            "text/plain": [
              "                   Low\n",
              "Date                  \n",
              "1962-01-02    4.125000\n",
              "1962-01-03    4.085938\n",
              "1962-01-04    4.187500\n",
              "1962-01-05    4.062500\n",
              "1962-01-08    4.031250\n",
              "...                ...\n",
              "2022-05-16  146.309998\n",
              "2022-05-17  150.520004\n",
              "2022-05-18  148.470001\n",
              "2022-05-19  144.110001\n",
              "2022-05-20  141.089996\n",
              "\n",
              "[15202 rows x 1 columns]"
            ],
            "text/html": [
              "\n",
              "  <div id=\"df-7f8c6e3b-4dba-4c1d-a79e-90a81ea5b9de\">\n",
              "    <div class=\"colab-df-container\">\n",
              "      <div>\n",
              "<style scoped>\n",
              "    .dataframe tbody tr th:only-of-type {\n",
              "        vertical-align: middle;\n",
              "    }\n",
              "\n",
              "    .dataframe tbody tr th {\n",
              "        vertical-align: top;\n",
              "    }\n",
              "\n",
              "    .dataframe thead th {\n",
              "        text-align: right;\n",
              "    }\n",
              "</style>\n",
              "<table border=\"1\" class=\"dataframe\">\n",
              "  <thead>\n",
              "    <tr style=\"text-align: right;\">\n",
              "      <th></th>\n",
              "      <th>Low</th>\n",
              "    </tr>\n",
              "    <tr>\n",
              "      <th>Date</th>\n",
              "      <th></th>\n",
              "    </tr>\n",
              "  </thead>\n",
              "  <tbody>\n",
              "    <tr>\n",
              "      <th>1962-01-02</th>\n",
              "      <td>4.125000</td>\n",
              "    </tr>\n",
              "    <tr>\n",
              "      <th>1962-01-03</th>\n",
              "      <td>4.085938</td>\n",
              "    </tr>\n",
              "    <tr>\n",
              "      <th>1962-01-04</th>\n",
              "      <td>4.187500</td>\n",
              "    </tr>\n",
              "    <tr>\n",
              "      <th>1962-01-05</th>\n",
              "      <td>4.062500</td>\n",
              "    </tr>\n",
              "    <tr>\n",
              "      <th>1962-01-08</th>\n",
              "      <td>4.031250</td>\n",
              "    </tr>\n",
              "    <tr>\n",
              "      <th>...</th>\n",
              "      <td>...</td>\n",
              "    </tr>\n",
              "    <tr>\n",
              "      <th>2022-05-16</th>\n",
              "      <td>146.309998</td>\n",
              "    </tr>\n",
              "    <tr>\n",
              "      <th>2022-05-17</th>\n",
              "      <td>150.520004</td>\n",
              "    </tr>\n",
              "    <tr>\n",
              "      <th>2022-05-18</th>\n",
              "      <td>148.470001</td>\n",
              "    </tr>\n",
              "    <tr>\n",
              "      <th>2022-05-19</th>\n",
              "      <td>144.110001</td>\n",
              "    </tr>\n",
              "    <tr>\n",
              "      <th>2022-05-20</th>\n",
              "      <td>141.089996</td>\n",
              "    </tr>\n",
              "  </tbody>\n",
              "</table>\n",
              "<p>15202 rows × 1 columns</p>\n",
              "</div>\n",
              "      <button class=\"colab-df-convert\" onclick=\"convertToInteractive('df-7f8c6e3b-4dba-4c1d-a79e-90a81ea5b9de')\"\n",
              "              title=\"Convert this dataframe to an interactive table.\"\n",
              "              style=\"display:none;\">\n",
              "        \n",
              "  <svg xmlns=\"http://www.w3.org/2000/svg\" height=\"24px\"viewBox=\"0 0 24 24\"\n",
              "       width=\"24px\">\n",
              "    <path d=\"M0 0h24v24H0V0z\" fill=\"none\"/>\n",
              "    <path d=\"M18.56 5.44l.94 2.06.94-2.06 2.06-.94-2.06-.94-.94-2.06-.94 2.06-2.06.94zm-11 1L8.5 8.5l.94-2.06 2.06-.94-2.06-.94L8.5 2.5l-.94 2.06-2.06.94zm10 10l.94 2.06.94-2.06 2.06-.94-2.06-.94-.94-2.06-.94 2.06-2.06.94z\"/><path d=\"M17.41 7.96l-1.37-1.37c-.4-.4-.92-.59-1.43-.59-.52 0-1.04.2-1.43.59L10.3 9.45l-7.72 7.72c-.78.78-.78 2.05 0 2.83L4 21.41c.39.39.9.59 1.41.59.51 0 1.02-.2 1.41-.59l7.78-7.78 2.81-2.81c.8-.78.8-2.07 0-2.86zM5.41 20L4 18.59l7.72-7.72 1.47 1.35L5.41 20z\"/>\n",
              "  </svg>\n",
              "      </button>\n",
              "      \n",
              "  <style>\n",
              "    .colab-df-container {\n",
              "      display:flex;\n",
              "      flex-wrap:wrap;\n",
              "      gap: 12px;\n",
              "    }\n",
              "\n",
              "    .colab-df-convert {\n",
              "      background-color: #E8F0FE;\n",
              "      border: none;\n",
              "      border-radius: 50%;\n",
              "      cursor: pointer;\n",
              "      display: none;\n",
              "      fill: #1967D2;\n",
              "      height: 32px;\n",
              "      padding: 0 0 0 0;\n",
              "      width: 32px;\n",
              "    }\n",
              "\n",
              "    .colab-df-convert:hover {\n",
              "      background-color: #E2EBFA;\n",
              "      box-shadow: 0px 1px 2px rgba(60, 64, 67, 0.3), 0px 1px 3px 1px rgba(60, 64, 67, 0.15);\n",
              "      fill: #174EA6;\n",
              "    }\n",
              "\n",
              "    [theme=dark] .colab-df-convert {\n",
              "      background-color: #3B4455;\n",
              "      fill: #D2E3FC;\n",
              "    }\n",
              "\n",
              "    [theme=dark] .colab-df-convert:hover {\n",
              "      background-color: #434B5C;\n",
              "      box-shadow: 0px 1px 3px 1px rgba(0, 0, 0, 0.15);\n",
              "      filter: drop-shadow(0px 1px 2px rgba(0, 0, 0, 0.3));\n",
              "      fill: #FFFFFF;\n",
              "    }\n",
              "  </style>\n",
              "\n",
              "      <script>\n",
              "        const buttonEl =\n",
              "          document.querySelector('#df-7f8c6e3b-4dba-4c1d-a79e-90a81ea5b9de button.colab-df-convert');\n",
              "        buttonEl.style.display =\n",
              "          google.colab.kernel.accessAllowed ? 'block' : 'none';\n",
              "\n",
              "        async function convertToInteractive(key) {\n",
              "          const element = document.querySelector('#df-7f8c6e3b-4dba-4c1d-a79e-90a81ea5b9de');\n",
              "          const dataTable =\n",
              "            await google.colab.kernel.invokeFunction('convertToInteractive',\n",
              "                                                     [key], {});\n",
              "          if (!dataTable) return;\n",
              "\n",
              "          const docLinkHtml = 'Like what you see? Visit the ' +\n",
              "            '<a target=\"_blank\" href=https://colab.research.google.com/notebooks/data_table.ipynb>data table notebook</a>'\n",
              "            + ' to learn more about interactive tables.';\n",
              "          element.innerHTML = '';\n",
              "          dataTable['output_type'] = 'display_data';\n",
              "          await google.colab.output.renderOutput(dataTable, element);\n",
              "          const docLink = document.createElement('div');\n",
              "          docLink.innerHTML = docLinkHtml;\n",
              "          element.appendChild(docLink);\n",
              "        }\n",
              "      </script>\n",
              "    </div>\n",
              "  </div>\n",
              "  "
            ]
          },
          "metadata": {},
          "execution_count": 34
        }
      ]
    },
    {
      "cell_type": "markdown",
      "source": [
        "E interessante analisar esse valor graficamente. Pois nesse gráfico já percebemos alguns vales que representam minimas históricas da empresa."
      ],
      "metadata": {
        "id": "mXQKOncf1N6W"
      }
    },
    {
      "cell_type": "code",
      "source": [
        "import matplotlib.pyplot as plt\n",
        "plt.plot(df.index, df['Low'])"
      ],
      "metadata": {
        "colab": {
          "base_uri": "https://localhost:8080/",
          "height": 282
        },
        "id": "Gdg41vUqyqwg",
        "outputId": "95b477a8-8cc7-4c5f-c810-dfa1af8e41bf"
      },
      "execution_count": null,
      "outputs": [
        {
          "output_type": "execute_result",
          "data": {
            "text/plain": [
              "[<matplotlib.lines.Line2D at 0x7f2dc3a20b90>]"
            ]
          },
          "metadata": {},
          "execution_count": 35
        },
        {
          "output_type": "display_data",
          "data": {
            "text/plain": [
              "<Figure size 432x288 with 1 Axes>"
            ],
            "image/png": "[encoded data removed]"
          },
          "metadata": {
            "needs_background": "light"
          }
        }
      ]
    },
    {
      "cell_type": "markdown",
      "source": [
        "Abaixo estaremos transformando os dados numa matriz numpy, considerando aqui sempre 3 dias anteriores ao que se está sendo analisado."
      ],
      "metadata": {
        "id": "qUgB_MoX1KNe"
      }
    },
    {
      "cell_type": "code",
      "source": [
        "import numpy as np\n",
        "\n",
        "def df_to_windowed_df(dataframe, first_date_str, last_date_str, n=3):\n",
        "  first_date = str_to_datetime(first_date_str)\n",
        "  last_date  = str_to_datetime(last_date_str)\n",
        "\n",
        "  target_date = first_date\n",
        "  \n",
        "  dates = []\n",
        "  X, Y = [], []\n",
        "\n",
        "  last_time = False\n",
        "  while True:\n",
        "    df_subset = dataframe.loc[:target_date].tail(n+1)\n",
        "    \n",
        "    if len(df_subset) != n+1:\n",
        "      print(f'Error: Window of size {n} is too large for date {target_date}')\n",
        "      return\n",
        "\n",
        "    values = df_subset['Low'].to_numpy()\n",
        "    x, y = values[:-1], values[-1]\n",
        "\n",
        "    dates.append(target_date)\n",
        "    X.append(x)\n",
        "    Y.append(y)\n",
        "\n",
        "    next_week = dataframe.loc[target_date:target_date+datetime.timedelta(days=7)]\n",
        "    next_datetime_str = str(next_week.head(2).tail(1).index.values[0])\n",
        "    next_date_str = next_datetime_str.split('T')[0]\n",
        "    year_month_day = next_date_str.split('-')\n",
        "    year, month, day = year_month_day\n",
        "    next_date = datetime.datetime(day=int(day), month=int(month), year=int(year))\n",
        "    \n",
        "    if last_time:\n",
        "      break\n",
        "    \n",
        "    target_date = next_date\n",
        "\n",
        "    if target_date == last_date:\n",
        "      last_time = True\n",
        "    \n",
        "  ret_df = pd.DataFrame({})\n",
        "  ret_df['Target Date'] = dates\n",
        "  \n",
        "  X = np.array(X)\n",
        "  for i in range(0, n):\n",
        "    X[:, i]\n",
        "    ret_df[f'Target-{n-i}'] = X[:, i]\n",
        "  \n",
        "  ret_df['Target'] = Y\n",
        "\n",
        "  return ret_df\n",
        "\n",
        "# Start day second time around: '2021-03-25'\n",
        "windowed_df = df_to_windowed_df(df, \n",
        "                                '2021-03-25', \n",
        "                                '2022-03-23', \n",
        "                                n=3)\n",
        "windowed_df"
      ],
      "metadata": {
        "colab": {
          "base_uri": "https://localhost:8080/",
          "height": 424
        },
        "id": "wHU21lADyvVA",
        "outputId": "b9b43ee8-0979-46b2-f44d-5eeffeb0fe75"
      },
      "execution_count": null,
      "outputs": [
        {
          "output_type": "execute_result",
          "data": {
            "text/plain": [
              "    Target Date    Target-3    Target-2    Target-1      Target\n",
              "0    2021-03-25  187.009995  187.899994  188.080002  190.169998\n",
              "1    2021-03-26  187.899994  188.080002  190.169998  192.210007\n",
              "2    2021-03-29  188.080002  190.169998  192.210007  193.509995\n",
              "3    2021-03-30  190.169998  192.210007  193.509995  193.880005\n",
              "4    2021-03-31  192.210007  193.509995  193.880005  192.050003\n",
              "..          ...         ...         ...         ...         ...\n",
              "247  2022-03-17  141.449997  142.589996  142.839996  144.149994\n",
              "248  2022-03-18  142.589996  142.839996  144.149994  145.220001\n",
              "249  2022-03-21  142.839996  144.149994  145.220001  147.399994\n",
              "250  2022-03-22  144.149994  145.220001  147.399994  148.500000\n",
              "251  2022-03-23  145.220001  147.399994  148.500000  147.559998\n",
              "\n",
              "[252 rows x 5 columns]"
            ],
            "text/html": [
              "\n",
              "  <div id=\"df-e4d2e3a8-6029-47d1-bee7-57e35d223590\">\n",
              "    <div class=\"colab-df-container\">\n",
              "      <div>\n",
              "<style scoped>\n",
              "    .dataframe tbody tr th:only-of-type {\n",
              "        vertical-align: middle;\n",
              "    }\n",
              "\n",
              "    .dataframe tbody tr th {\n",
              "        vertical-align: top;\n",
              "    }\n",
              "\n",
              "    .dataframe thead th {\n",
              "        text-align: right;\n",
              "    }\n",
              "</style>\n",
              "<table border=\"1\" class=\"dataframe\">\n",
              "  <thead>\n",
              "    <tr style=\"text-align: right;\">\n",
              "      <th></th>\n",
              "      <th>Target Date</th>\n",
              "      <th>Target-3</th>\n",
              "      <th>Target-2</th>\n",
              "      <th>Target-1</th>\n",
              "      <th>Target</th>\n",
              "    </tr>\n",
              "  </thead>\n",
              "  <tbody>\n",
              "    <tr>\n",
              "      <th>0</th>\n",
              "      <td>2021-03-25</td>\n",
              "      <td>187.009995</td>\n",
              "      <td>187.899994</td>\n",
              "      <td>188.080002</td>\n",
              "      <td>190.169998</td>\n",
              "    </tr>\n",
              "    <tr>\n",
              "      <th>1</th>\n",
              "      <td>2021-03-26</td>\n",
              "      <td>187.899994</td>\n",
              "      <td>188.080002</td>\n",
              "      <td>190.169998</td>\n",
              "      <td>192.210007</td>\n",
              "    </tr>\n",
              "    <tr>\n",
              "      <th>2</th>\n",
              "      <td>2021-03-29</td>\n",
              "      <td>188.080002</td>\n",
              "      <td>190.169998</td>\n",
              "      <td>192.210007</td>\n",
              "      <td>193.509995</td>\n",
              "    </tr>\n",
              "    <tr>\n",
              "      <th>3</th>\n",
              "      <td>2021-03-30</td>\n",
              "      <td>190.169998</td>\n",
              "      <td>192.210007</td>\n",
              "      <td>193.509995</td>\n",
              "      <td>193.880005</td>\n",
              "    </tr>\n",
              "    <tr>\n",
              "      <th>4</th>\n",
              "      <td>2021-03-31</td>\n",
              "      <td>192.210007</td>\n",
              "      <td>193.509995</td>\n",
              "      <td>193.880005</td>\n",
              "      <td>192.050003</td>\n",
              "    </tr>\n",
              "    <tr>\n",
              "      <th>...</th>\n",
              "      <td>...</td>\n",
              "      <td>...</td>\n",
              "      <td>...</td>\n",
              "      <td>...</td>\n",
              "      <td>...</td>\n",
              "    </tr>\n",
              "    <tr>\n",
              "      <th>247</th>\n",
              "      <td>2022-03-17</td>\n",
              "      <td>141.449997</td>\n",
              "      <td>142.589996</td>\n",
              "      <td>142.839996</td>\n",
              "      <td>144.149994</td>\n",
              "    </tr>\n",
              "    <tr>\n",
              "      <th>248</th>\n",
              "      <td>2022-03-18</td>\n",
              "      <td>142.589996</td>\n",
              "      <td>142.839996</td>\n",
              "      <td>144.149994</td>\n",
              "      <td>145.220001</td>\n",
              "    </tr>\n",
              "    <tr>\n",
              "      <th>249</th>\n",
              "      <td>2022-03-21</td>\n",
              "      <td>142.839996</td>\n",
              "      <td>144.149994</td>\n",
              "      <td>145.220001</td>\n",
              "      <td>147.399994</td>\n",
              "    </tr>\n",
              "    <tr>\n",
              "      <th>250</th>\n",
              "      <td>2022-03-22</td>\n",
              "      <td>144.149994</td>\n",
              "      <td>145.220001</td>\n",
              "      <td>147.399994</td>\n",
              "      <td>148.500000</td>\n",
              "    </tr>\n",
              "    <tr>\n",
              "      <th>251</th>\n",
              "      <td>2022-03-23</td>\n",
              "      <td>145.220001</td>\n",
              "      <td>147.399994</td>\n",
              "      <td>148.500000</td>\n",
              "      <td>147.559998</td>\n",
              "    </tr>\n",
              "  </tbody>\n",
              "</table>\n",
              "<p>252 rows × 5 columns</p>\n",
              "</div>\n",
              "      <button class=\"colab-df-convert\" onclick=\"convertToInteractive('df-e4d2e3a8-6029-47d1-bee7-57e35d223590')\"\n",
              "              title=\"Convert this dataframe to an interactive table.\"\n",
              "              style=\"display:none;\">\n",
              "        \n",
              "  <svg xmlns=\"http://www.w3.org/2000/svg\" height=\"24px\"viewBox=\"0 0 24 24\"\n",
              "       width=\"24px\">\n",
              "    <path d=\"M0 0h24v24H0V0z\" fill=\"none\"/>\n",
              "    <path d=\"M18.56 5.44l.94 2.06.94-2.06 2.06-.94-2.06-.94-.94-2.06-.94 2.06-2.06.94zm-11 1L8.5 8.5l.94-2.06 2.06-.94-2.06-.94L8.5 2.5l-.94 2.06-2.06.94zm10 10l.94 2.06.94-2.06 2.06-.94-2.06-.94-.94-2.06-.94 2.06-2.06.94z\"/><path d=\"M17.41 7.96l-1.37-1.37c-.4-.4-.92-.59-1.43-.59-.52 0-1.04.2-1.43.59L10.3 9.45l-7.72 7.72c-.78.78-.78 2.05 0 2.83L4 21.41c.39.39.9.59 1.41.59.51 0 1.02-.2 1.41-.59l7.78-7.78 2.81-2.81c.8-.78.8-2.07 0-2.86zM5.41 20L4 18.59l7.72-7.72 1.47 1.35L5.41 20z\"/>\n",
              "  </svg>\n",
              "      </button>\n",
              "      \n",
              "  <style>\n",
              "    .colab-df-container {\n",
              "      display:flex;\n",
              "      flex-wrap:wrap;\n",
              "      gap: 12px;\n",
              "    }\n",
              "\n",
              "    .colab-df-convert {\n",
              "      background-color: #E8F0FE;\n",
              "      border: none;\n",
              "      border-radius: 50%;\n",
              "      cursor: pointer;\n",
              "      display: none;\n",
              "      fill: #1967D2;\n",
              "      height: 32px;\n",
              "      padding: 0 0 0 0;\n",
              "      width: 32px;\n",
              "    }\n",
              "\n",
              "    .colab-df-convert:hover {\n",
              "      background-color: #E2EBFA;\n",
              "      box-shadow: 0px 1px 2px rgba(60, 64, 67, 0.3), 0px 1px 3px 1px rgba(60, 64, 67, 0.15);\n",
              "      fill: #174EA6;\n",
              "    }\n",
              "\n",
              "    [theme=dark] .colab-df-convert {\n",
              "      background-color: #3B4455;\n",
              "      fill: #D2E3FC;\n",
              "    }\n",
              "\n",
              "    [theme=dark] .colab-df-convert:hover {\n",
              "      background-color: #434B5C;\n",
              "      box-shadow: 0px 1px 3px 1px rgba(0, 0, 0, 0.15);\n",
              "      filter: drop-shadow(0px 1px 2px rgba(0, 0, 0, 0.3));\n",
              "      fill: #FFFFFF;\n",
              "    }\n",
              "  </style>\n",
              "\n",
              "      <script>\n",
              "        const buttonEl =\n",
              "          document.querySelector('#df-e4d2e3a8-6029-47d1-bee7-57e35d223590 button.colab-df-convert');\n",
              "        buttonEl.style.display =\n",
              "          google.colab.kernel.accessAllowed ? 'block' : 'none';\n",
              "\n",
              "        async function convertToInteractive(key) {\n",
              "          const element = document.querySelector('#df-e4d2e3a8-6029-47d1-bee7-57e35d223590');\n",
              "          const dataTable =\n",
              "            await google.colab.kernel.invokeFunction('convertToInteractive',\n",
              "                                                     [key], {});\n",
              "          if (!dataTable) return;\n",
              "\n",
              "          const docLinkHtml = 'Like what you see? Visit the ' +\n",
              "            '<a target=\"_blank\" href=https://colab.research.google.com/notebooks/data_table.ipynb>data table notebook</a>'\n",
              "            + ' to learn more about interactive tables.';\n",
              "          element.innerHTML = '';\n",
              "          dataTable['output_type'] = 'display_data';\n",
              "          await google.colab.output.renderOutput(dataTable, element);\n",
              "          const docLink = document.createElement('div');\n",
              "          docLink.innerHTML = docLinkHtml;\n",
              "          element.appendChild(docLink);\n",
              "        }\n",
              "      </script>\n",
              "    </div>\n",
              "  </div>\n",
              "  "
            ]
          },
          "metadata": {},
          "execution_count": 36
        }
      ]
    },
    {
      "cell_type": "code",
      "source": [
        "def windowed_df_to_date_X_y(windowed_dataframe):\n",
        "  df_as_np = windowed_dataframe.to_numpy()\n",
        "\n",
        "  dates = df_as_np[:, 0]\n",
        "\n",
        "  middle_matrix = df_as_np[:, 1:-1]\n",
        "  X = middle_matrix.reshape((len(dates), middle_matrix.shape[1], 1))\n",
        "\n",
        "  Y = df_as_np[:, -1]\n",
        "\n",
        "  return dates, X.astype(np.float32), Y.astype(np.float32)\n",
        "\n",
        "dates, X, y = windowed_df_to_date_X_y(windowed_df)\n",
        "\n",
        "dates.shape, X.shape, y.shape"
      ],
      "metadata": {
        "colab": {
          "base_uri": "https://localhost:8080/"
        },
        "id": "peVVyd53yy3H",
        "outputId": "c5b056ea-6600-448c-e54f-5cd0053f2d29"
      },
      "execution_count": null,
      "outputs": [
        {
          "output_type": "execute_result",
          "data": {
            "text/plain": [
              "((252,), (252, 3, 1), (252,))"
            ]
          },
          "metadata": {},
          "execution_count": 37
        }
      ]
    },
    {
      "cell_type": "markdown",
      "source": [
        "Divisão dos dados em treino, validação e teste."
      ],
      "metadata": {
        "id": "DkPVugTN1g8f"
      }
    },
    {
      "cell_type": "code",
      "source": [
        "q_80 = int(len(dates) * .8)\n",
        "q_90 = int(len(dates) * .9)\n",
        "\n",
        "dates_train, X_train, y_train = dates[:q_80], X[:q_80], y[:q_80]\n",
        "\n",
        "dates_val, X_val, y_val = dates[q_80:q_90], X[q_80:q_90], y[q_80:q_90]\n",
        "dates_test, X_test, y_test = dates[q_90:], X[q_90:], y[q_90:]\n",
        "\n",
        "plt.plot(dates_train, y_train)\n",
        "plt.plot(dates_val, y_val)\n",
        "plt.plot(dates_test, y_test)\n",
        "\n",
        "plt.legend(['Treino', 'Validação', 'Teste'])"
      ],
      "metadata": {
        "colab": {
          "base_uri": "https://localhost:8080/",
          "height": 282
        },
        "id": "zXFW0Qthy4q5",
        "outputId": "1b477c9f-bd58-47b5-f6e6-a75b227bbdb7"
      },
      "execution_count": null,
      "outputs": [
        {
          "output_type": "execute_result",
          "data": {
            "text/plain": [
              "<matplotlib.legend.Legend at 0x7f2dc3a24910>"
            ]
          },
          "metadata": {},
          "execution_count": 38
        },
        {
          "output_type": "display_data",
          "data": {
            "text/plain": [
              "<Figure size 432x288 with 1 Axes>"
            ],
            "image/png": "[encoded data removed]"
          },
          "metadata": {
            "needs_background": "light"
          }
        }
      ]
    },
    {
      "cell_type": "markdown",
      "source": [
        "Abaixo estaremos rodando um novo modelo sem a interferência dos dados do modelo anterior. Aqui, o código foi simplificado e consequentemente se tornou menos assertivo mas mais rápido, por isso estamos utilizando 100 epochs."
      ],
      "metadata": {
        "id": "5ovvu9ml1qKO"
      }
    },
    {
      "cell_type": "code",
      "source": [
        "from tensorflow.keras.models import Sequential\n",
        "from tensorflow.keras.optimizers import Adam\n",
        "from tensorflow.keras import layers\n",
        "\n",
        "model = Sequential([layers.Input((3, 1)),\n",
        "                    layers.LSTM(64),\n",
        "                    layers.Dense(32, activation='relu'),\n",
        "                    layers.Dense(32, activation='relu'),\n",
        "                    layers.Dense(1)])\n",
        "\n",
        "model.compile(loss='mse', \n",
        "              optimizer=Adam(learning_rate=0.001),\n",
        "              metrics=['mean_absolute_error'])\n",
        "\n",
        "model.fit(X_train, y_train, validation_data=(X_val, y_val), epochs=100)"
      ],
      "metadata": {
        "colab": {
          "base_uri": "https://localhost:8080/"
        },
        "id": "0TO9APDPy6FP",
        "outputId": "e6ce374f-f83c-46d6-c83e-43970cf9449a"
      },
      "execution_count": null,
      "outputs": [
        {
          "output_type": "stream",
          "name": "stdout",
          "text": [
            "Epoch 1/100\n",
            "7/7 [==============================] - 3s 86ms/step - loss: 35762.8359 - mean_absolute_error: 188.8273 - val_loss: 28024.9297 - val_mean_absolute_error: 167.2440\n",
            "Epoch 2/100\n",
            "7/7 [==============================] - 0s 7ms/step - loss: 35490.6172 - mean_absolute_error: 188.1057 - val_loss: 27768.1055 - val_mean_absolute_error: 166.4744\n",
            "Epoch 3/100\n",
            "7/7 [==============================] - 0s 6ms/step - loss: 35190.1797 - mean_absolute_error: 187.3042 - val_loss: 27460.1348 - val_mean_absolute_error: 165.5467\n",
            "Epoch 4/100\n",
            "7/7 [==============================] - 0s 6ms/step - loss: 34806.1641 - mean_absolute_error: 186.2774 - val_loss: 27064.4043 - val_mean_absolute_error: 164.3472\n",
            "Epoch 5/100\n",
            "7/7 [==============================] - 0s 7ms/step - loss: 34310.9961 - mean_absolute_error: 184.9452 - val_loss: 26550.5098 - val_mean_absolute_error: 162.7762\n",
            "Epoch 6/100\n",
            "7/7 [==============================] - 0s 7ms/step - loss: 33669.7969 - mean_absolute_error: 183.2006 - val_loss: 25889.5449 - val_mean_absolute_error: 160.7333\n",
            "Epoch 7/100\n",
            "7/7 [==============================] - 0s 7ms/step - loss: 32859.5859 - mean_absolute_error: 180.9720 - val_loss: 25062.5098 - val_mean_absolute_error: 158.1391\n",
            "Epoch 8/100\n",
            "7/7 [==============================] - 0s 7ms/step - loss: 31809.4238 - mean_absolute_error: 178.0519 - val_loss: 23882.9277 - val_mean_absolute_error: 154.3632\n",
            "Epoch 9/100\n",
            "7/7 [==============================] - 0s 7ms/step - loss: 30267.8066 - mean_absolute_error: 173.6599 - val_loss: 22254.4004 - val_mean_absolute_error: 148.9962\n",
            "Epoch 10/100\n",
            "7/7 [==============================] - 0s 7ms/step - loss: 28335.1367 - mean_absolute_error: 167.9929 - val_loss: 20536.7188 - val_mean_absolute_error: 143.1159\n",
            "Epoch 11/100\n",
            "7/7 [==============================] - 0s 7ms/step - loss: 26283.1289 - mean_absolute_error: 161.7884 - val_loss: 18573.8516 - val_mean_absolute_error: 136.0845\n",
            "Epoch 12/100\n",
            "7/7 [==============================] - 0s 7ms/step - loss: 23866.8672 - mean_absolute_error: 154.1212 - val_loss: 16204.3066 - val_mean_absolute_error: 127.0794\n",
            "Epoch 13/100\n",
            "7/7 [==============================] - 0s 7ms/step - loss: 20981.7031 - mean_absolute_error: 144.4309 - val_loss: 13517.0547 - val_mean_absolute_error: 116.0225\n",
            "Epoch 14/100\n",
            "7/7 [==============================] - 0s 7ms/step - loss: 17652.2520 - mean_absolute_error: 132.3869 - val_loss: 10548.0059 - val_mean_absolute_error: 102.4331\n",
            "Epoch 15/100\n",
            "7/7 [==============================] - 0s 7ms/step - loss: 14069.7910 - mean_absolute_error: 118.0697 - val_loss: 7613.6533 - val_mean_absolute_error: 86.9397\n",
            "Epoch 16/100\n",
            "7/7 [==============================] - 0s 6ms/step - loss: 10542.4150 - mean_absolute_error: 102.0365 - val_loss: 5029.8745 - val_mean_absolute_error: 70.5347\n",
            "Epoch 17/100\n",
            "7/7 [==============================] - 0s 7ms/step - loss: 7388.7471 - mean_absolute_error: 85.2900 - val_loss: 2877.5896 - val_mean_absolute_error: 53.1258\n",
            "Epoch 18/100\n",
            "7/7 [==============================] - 0s 7ms/step - loss: 4649.0005 - mean_absolute_error: 67.2546 - val_loss: 1164.6661 - val_mean_absolute_error: 33.3024\n",
            "Epoch 19/100\n",
            "7/7 [==============================] - 0s 7ms/step - loss: 2356.8469 - mean_absolute_error: 47.1861 - val_loss: 267.8713 - val_mean_absolute_error: 14.6098\n",
            "Epoch 20/100\n",
            "7/7 [==============================] - 0s 7ms/step - loss: 992.3283 - mean_absolute_error: 29.5080 - val_loss: 59.5142 - val_mean_absolute_error: 6.8919\n",
            "Epoch 21/100\n",
            "7/7 [==============================] - 0s 6ms/step - loss: 310.2409 - mean_absolute_error: 14.5900 - val_loss: 321.7240 - val_mean_absolute_error: 16.3357\n",
            "Epoch 22/100\n",
            "7/7 [==============================] - 0s 7ms/step - loss: 114.7316 - mean_absolute_error: 9.8417 - val_loss: 647.2922 - val_mean_absolute_error: 24.3527\n",
            "Epoch 23/100\n",
            "7/7 [==============================] - 0s 7ms/step - loss: 130.5316 - mean_absolute_error: 9.3335 - val_loss: 795.7087 - val_mean_absolute_error: 27.2302\n",
            "Epoch 24/100\n",
            "7/7 [==============================] - 0s 7ms/step - loss: 143.0912 - mean_absolute_error: 9.4098 - val_loss: 757.5902 - val_mean_absolute_error: 26.5211\n",
            "Epoch 25/100\n",
            "7/7 [==============================] - 0s 7ms/step - loss: 128.7651 - mean_absolute_error: 9.2436 - val_loss: 656.8780 - val_mean_absolute_error: 24.5490\n",
            "Epoch 26/100\n",
            "7/7 [==============================] - 0s 7ms/step - loss: 113.5391 - mean_absolute_error: 9.2953 - val_loss: 558.6791 - val_mean_absolute_error: 22.4601\n",
            "Epoch 27/100\n",
            "7/7 [==============================] - 0s 7ms/step - loss: 106.7573 - mean_absolute_error: 9.5389 - val_loss: 489.4181 - val_mean_absolute_error: 20.8613\n",
            "Epoch 28/100\n",
            "7/7 [==============================] - 0s 7ms/step - loss: 107.4815 - mean_absolute_error: 9.7511 - val_loss: 450.7030 - val_mean_absolute_error: 19.9118\n",
            "Epoch 29/100\n",
            "7/7 [==============================] - 0s 7ms/step - loss: 108.2537 - mean_absolute_error: 9.8006 - val_loss: 451.9182 - val_mean_absolute_error: 19.9423\n",
            "Epoch 30/100\n",
            "7/7 [==============================] - 0s 8ms/step - loss: 108.1406 - mean_absolute_error: 9.7935 - val_loss: 459.6177 - val_mean_absolute_error: 20.1345\n",
            "Epoch 31/100\n",
            "7/7 [==============================] - 0s 7ms/step - loss: 107.5157 - mean_absolute_error: 9.7449 - val_loss: 480.4040 - val_mean_absolute_error: 20.6442\n",
            "Epoch 32/100\n",
            "7/7 [==============================] - 0s 6ms/step - loss: 106.7991 - mean_absolute_error: 9.6840 - val_loss: 493.3986 - val_mean_absolute_error: 20.9566\n",
            "Epoch 33/100\n",
            "7/7 [==============================] - 0s 6ms/step - loss: 106.7632 - mean_absolute_error: 9.6414 - val_loss: 508.6570 - val_mean_absolute_error: 21.3176\n",
            "Epoch 34/100\n",
            "7/7 [==============================] - 0s 7ms/step - loss: 106.7334 - mean_absolute_error: 9.6061 - val_loss: 514.0211 - val_mean_absolute_error: 21.4430\n",
            "Epoch 35/100\n",
            "7/7 [==============================] - 0s 7ms/step - loss: 106.9493 - mean_absolute_error: 9.5924 - val_loss: 519.2414 - val_mean_absolute_error: 21.5644\n",
            "Epoch 36/100\n",
            "7/7 [==============================] - 0s 7ms/step - loss: 106.9513 - mean_absolute_error: 9.6083 - val_loss: 506.3174 - val_mean_absolute_error: 21.2627\n",
            "Epoch 37/100\n",
            "7/7 [==============================] - 0s 7ms/step - loss: 107.0764 - mean_absolute_error: 9.6541 - val_loss: 499.5750 - val_mean_absolute_error: 21.1036\n",
            "Epoch 38/100\n",
            "7/7 [==============================] - 0s 7ms/step - loss: 106.7981 - mean_absolute_error: 9.6305 - val_loss: 511.1405 - val_mean_absolute_error: 21.3758\n",
            "Epoch 39/100\n",
            "7/7 [==============================] - 0s 7ms/step - loss: 106.8186 - mean_absolute_error: 9.6076 - val_loss: 511.0775 - val_mean_absolute_error: 21.3744\n",
            "Epoch 40/100\n",
            "7/7 [==============================] - 0s 7ms/step - loss: 106.8487 - mean_absolute_error: 9.6228 - val_loss: 503.7652 - val_mean_absolute_error: 21.2027\n",
            "Epoch 41/100\n",
            "7/7 [==============================] - 0s 8ms/step - loss: 106.7796 - mean_absolute_error: 9.6390 - val_loss: 499.8430 - val_mean_absolute_error: 21.1100\n",
            "Epoch 42/100\n",
            "7/7 [==============================] - 0s 8ms/step - loss: 106.7485 - mean_absolute_error: 9.6434 - val_loss: 495.8390 - val_mean_absolute_error: 21.0150\n",
            "Epoch 43/100\n",
            "7/7 [==============================] - 0s 7ms/step - loss: 106.7326 - mean_absolute_error: 9.6512 - val_loss: 493.6262 - val_mean_absolute_error: 20.9630\n",
            "Epoch 44/100\n",
            "7/7 [==============================] - 0s 7ms/step - loss: 105.8452 - mean_absolute_error: 9.6277 - val_loss: 331.1713 - val_mean_absolute_error: 16.9101\n",
            "Epoch 45/100\n",
            "7/7 [==============================] - 0s 7ms/step - loss: 101.0643 - mean_absolute_error: 9.4390 - val_loss: 490.3805 - val_mean_absolute_error: 20.9710\n",
            "Epoch 46/100\n",
            "7/7 [==============================] - 0s 7ms/step - loss: 99.2700 - mean_absolute_error: 9.2751 - val_loss: 301.3827 - val_mean_absolute_error: 15.9198\n",
            "Epoch 47/100\n",
            "7/7 [==============================] - 0s 7ms/step - loss: 95.8025 - mean_absolute_error: 9.1449 - val_loss: 392.1249 - val_mean_absolute_error: 18.6427\n",
            "Epoch 48/100\n",
            "7/7 [==============================] - 0s 7ms/step - loss: 89.8511 - mean_absolute_error: 8.9198 - val_loss: 406.2845 - val_mean_absolute_error: 19.0190\n",
            "Epoch 49/100\n",
            "7/7 [==============================] - 0s 8ms/step - loss: 88.2715 - mean_absolute_error: 8.8060 - val_loss: 452.4686 - val_mean_absolute_error: 20.2117\n",
            "Epoch 50/100\n",
            "7/7 [==============================] - 0s 7ms/step - loss: 96.8856 - mean_absolute_error: 8.8123 - val_loss: 392.0755 - val_mean_absolute_error: 18.5926\n",
            "Epoch 51/100\n",
            "7/7 [==============================] - 0s 6ms/step - loss: 88.3954 - mean_absolute_error: 8.8259 - val_loss: 293.7295 - val_mean_absolute_error: 16.0384\n",
            "Epoch 52/100\n",
            "7/7 [==============================] - 0s 7ms/step - loss: 82.1633 - mean_absolute_error: 8.3463 - val_loss: 326.8381 - val_mean_absolute_error: 17.0714\n",
            "Epoch 53/100\n",
            "7/7 [==============================] - 0s 8ms/step - loss: 71.6270 - mean_absolute_error: 7.8998 - val_loss: 326.0622 - val_mean_absolute_error: 17.0536\n",
            "Epoch 54/100\n",
            "7/7 [==============================] - 0s 7ms/step - loss: 69.5116 - mean_absolute_error: 7.7838 - val_loss: 316.2143 - val_mean_absolute_error: 16.7976\n",
            "Epoch 55/100\n",
            "7/7 [==============================] - 0s 6ms/step - loss: 65.8680 - mean_absolute_error: 7.4262 - val_loss: 190.6583 - val_mean_absolute_error: 12.3138\n",
            "Epoch 56/100\n",
            "7/7 [==============================] - 0s 7ms/step - loss: 76.6413 - mean_absolute_error: 7.8196 - val_loss: 279.7862 - val_mean_absolute_error: 15.8833\n",
            "Epoch 57/100\n",
            "7/7 [==============================] - 0s 7ms/step - loss: 59.0162 - mean_absolute_error: 7.0819 - val_loss: 257.5713 - val_mean_absolute_error: 15.1681\n",
            "Epoch 58/100\n",
            "7/7 [==============================] - 0s 7ms/step - loss: 55.6294 - mean_absolute_error: 6.9478 - val_loss: 285.5642 - val_mean_absolute_error: 16.1288\n",
            "Epoch 59/100\n",
            "7/7 [==============================] - 0s 7ms/step - loss: 53.9337 - mean_absolute_error: 6.5885 - val_loss: 216.3922 - val_mean_absolute_error: 13.9989\n",
            "Epoch 60/100\n",
            "7/7 [==============================] - 0s 7ms/step - loss: 50.1495 - mean_absolute_error: 6.3130 - val_loss: 141.0519 - val_mean_absolute_error: 11.2051\n",
            "Epoch 61/100\n",
            "7/7 [==============================] - 0s 7ms/step - loss: 43.4050 - mean_absolute_error: 5.9523 - val_loss: 146.9661 - val_mean_absolute_error: 11.3178\n",
            "Epoch 62/100\n",
            "7/7 [==============================] - 0s 7ms/step - loss: 36.6418 - mean_absolute_error: 5.5118 - val_loss: 83.2655 - val_mean_absolute_error: 7.9834\n",
            "Epoch 63/100\n",
            "7/7 [==============================] - 0s 7ms/step - loss: 38.1351 - mean_absolute_error: 5.4451 - val_loss: 94.8668 - val_mean_absolute_error: 8.7226\n",
            "Epoch 64/100\n",
            "7/7 [==============================] - 0s 7ms/step - loss: 37.4531 - mean_absolute_error: 5.4736 - val_loss: 91.2410 - val_mean_absolute_error: 8.5519\n",
            "Epoch 65/100\n",
            "7/7 [==============================] - 0s 7ms/step - loss: 37.4074 - mean_absolute_error: 5.3687 - val_loss: 92.4495 - val_mean_absolute_error: 8.6466\n",
            "Epoch 66/100\n",
            "7/7 [==============================] - 0s 7ms/step - loss: 29.4519 - mean_absolute_error: 4.8627 - val_loss: 80.3900 - val_mean_absolute_error: 7.9027\n",
            "Epoch 67/100\n",
            "7/7 [==============================] - 0s 7ms/step - loss: 27.8520 - mean_absolute_error: 4.6616 - val_loss: 74.0261 - val_mean_absolute_error: 7.5925\n",
            "Epoch 68/100\n",
            "7/7 [==============================] - 0s 8ms/step - loss: 27.4605 - mean_absolute_error: 4.5729 - val_loss: 109.3401 - val_mean_absolute_error: 9.7725\n",
            "Epoch 69/100\n",
            "7/7 [==============================] - 0s 7ms/step - loss: 23.2383 - mean_absolute_error: 4.2900 - val_loss: 47.6517 - val_mean_absolute_error: 5.8146\n",
            "Epoch 70/100\n",
            "7/7 [==============================] - 0s 6ms/step - loss: 27.3742 - mean_absolute_error: 4.5040 - val_loss: 64.7841 - val_mean_absolute_error: 7.1149\n",
            "Epoch 71/100\n",
            "7/7 [==============================] - 0s 6ms/step - loss: 25.6627 - mean_absolute_error: 4.3635 - val_loss: 66.6720 - val_mean_absolute_error: 7.3729\n",
            "Epoch 72/100\n",
            "7/7 [==============================] - 0s 7ms/step - loss: 19.1425 - mean_absolute_error: 3.7904 - val_loss: 77.5829 - val_mean_absolute_error: 8.1913\n",
            "Epoch 73/100\n",
            "7/7 [==============================] - 0s 7ms/step - loss: 14.9327 - mean_absolute_error: 3.3441 - val_loss: 78.2422 - val_mean_absolute_error: 8.3918\n",
            "Epoch 74/100\n",
            "7/7 [==============================] - 0s 7ms/step - loss: 16.0108 - mean_absolute_error: 3.3826 - val_loss: 26.4603 - val_mean_absolute_error: 4.3304\n",
            "Epoch 75/100\n",
            "7/7 [==============================] - 0s 7ms/step - loss: 10.8317 - mean_absolute_error: 2.8184 - val_loss: 19.3942 - val_mean_absolute_error: 3.5735\n",
            "Epoch 76/100\n",
            "7/7 [==============================] - 0s 7ms/step - loss: 11.6245 - mean_absolute_error: 2.7352 - val_loss: 10.4920 - val_mean_absolute_error: 2.5699\n",
            "Epoch 77/100\n",
            "7/7 [==============================] - 0s 7ms/step - loss: 13.4463 - mean_absolute_error: 2.9697 - val_loss: 32.0829 - val_mean_absolute_error: 4.9982\n",
            "Epoch 78/100\n",
            "7/7 [==============================] - 0s 7ms/step - loss: 12.0362 - mean_absolute_error: 2.7889 - val_loss: 26.2513 - val_mean_absolute_error: 4.3823\n",
            "Epoch 79/100\n",
            "7/7 [==============================] - 0s 7ms/step - loss: 8.1618 - mean_absolute_error: 2.4031 - val_loss: 12.8796 - val_mean_absolute_error: 2.9101\n",
            "Epoch 80/100\n",
            "7/7 [==============================] - 0s 7ms/step - loss: 8.1436 - mean_absolute_error: 2.3517 - val_loss: 14.0456 - val_mean_absolute_error: 3.0648\n",
            "Epoch 81/100\n",
            "7/7 [==============================] - 0s 7ms/step - loss: 9.2742 - mean_absolute_error: 2.4622 - val_loss: 44.2522 - val_mean_absolute_error: 6.1488\n",
            "Epoch 82/100\n",
            "7/7 [==============================] - 0s 7ms/step - loss: 11.4262 - mean_absolute_error: 2.7256 - val_loss: 48.5198 - val_mean_absolute_error: 6.4853\n",
            "Epoch 83/100\n",
            "7/7 [==============================] - 0s 7ms/step - loss: 10.3364 - mean_absolute_error: 2.5299 - val_loss: 23.2882 - val_mean_absolute_error: 4.1312\n",
            "Epoch 84/100\n",
            "7/7 [==============================] - 0s 7ms/step - loss: 5.8368 - mean_absolute_error: 1.9480 - val_loss: 17.3841 - val_mean_absolute_error: 3.4751\n",
            "Epoch 85/100\n",
            "7/7 [==============================] - 0s 7ms/step - loss: 6.7929 - mean_absolute_error: 2.0516 - val_loss: 23.4779 - val_mean_absolute_error: 4.2048\n",
            "Epoch 86/100\n",
            "7/7 [==============================] - 0s 8ms/step - loss: 7.1097 - mean_absolute_error: 2.1042 - val_loss: 13.2403 - val_mean_absolute_error: 2.9858\n",
            "Epoch 87/100\n",
            "7/7 [==============================] - 0s 12ms/step - loss: 5.1682 - mean_absolute_error: 1.7620 - val_loss: 13.0409 - val_mean_absolute_error: 2.9680\n",
            "Epoch 88/100\n",
            "7/7 [==============================] - 0s 7ms/step - loss: 5.7094 - mean_absolute_error: 1.8183 - val_loss: 8.5710 - val_mean_absolute_error: 2.3725\n",
            "Epoch 89/100\n",
            "7/7 [==============================] - 0s 8ms/step - loss: 5.1332 - mean_absolute_error: 1.7497 - val_loss: 8.7646 - val_mean_absolute_error: 2.3971\n",
            "Epoch 90/100\n",
            "7/7 [==============================] - 0s 8ms/step - loss: 4.7638 - mean_absolute_error: 1.6373 - val_loss: 6.7226 - val_mean_absolute_error: 2.1155\n",
            "Epoch 91/100\n",
            "7/7 [==============================] - 0s 7ms/step - loss: 4.8433 - mean_absolute_error: 1.6583 - val_loss: 7.3536 - val_mean_absolute_error: 2.2157\n",
            "Epoch 92/100\n",
            "7/7 [==============================] - 0s 7ms/step - loss: 5.1112 - mean_absolute_error: 1.7268 - val_loss: 6.5854 - val_mean_absolute_error: 2.0557\n",
            "Epoch 93/100\n",
            "7/7 [==============================] - 0s 7ms/step - loss: 5.9723 - mean_absolute_error: 1.8983 - val_loss: 8.1827 - val_mean_absolute_error: 2.3149\n",
            "Epoch 94/100\n",
            "7/7 [==============================] - 0s 7ms/step - loss: 4.9831 - mean_absolute_error: 1.6270 - val_loss: 7.0597 - val_mean_absolute_error: 2.1642\n",
            "Epoch 95/100\n",
            "7/7 [==============================] - 0s 6ms/step - loss: 4.9412 - mean_absolute_error: 1.6428 - val_loss: 7.1678 - val_mean_absolute_error: 2.1854\n",
            "Epoch 96/100\n",
            "7/7 [==============================] - 0s 7ms/step - loss: 4.4431 - mean_absolute_error: 1.5672 - val_loss: 6.5474 - val_mean_absolute_error: 2.0768\n",
            "Epoch 97/100\n",
            "7/7 [==============================] - 0s 7ms/step - loss: 4.6341 - mean_absolute_error: 1.5959 - val_loss: 6.9552 - val_mean_absolute_error: 2.1585\n",
            "Epoch 98/100\n",
            "7/7 [==============================] - 0s 7ms/step - loss: 4.4723 - mean_absolute_error: 1.5720 - val_loss: 7.8007 - val_mean_absolute_error: 2.2741\n",
            "Epoch 99/100\n",
            "7/7 [==============================] - 0s 8ms/step - loss: 4.4488 - mean_absolute_error: 1.5367 - val_loss: 7.8900 - val_mean_absolute_error: 2.2842\n",
            "Epoch 100/100\n",
            "7/7 [==============================] - 0s 7ms/step - loss: 4.7054 - mean_absolute_error: 1.5975 - val_loss: 9.8298 - val_mean_absolute_error: 2.5384\n"
          ]
        },
        {
          "output_type": "execute_result",
          "data": {
            "text/plain": [
              "<keras.callbacks.History at 0x7f2dbf6aa7d0>"
            ]
          },
          "metadata": {},
          "execution_count": 39
        }
      ]
    },
    {
      "cell_type": "code",
      "source": [
        "train_predictions = model.predict(X_train).flatten()\n",
        "\n",
        "plt.plot(dates_train, train_predictions)\n",
        "plt.plot(dates_train, y_train)\n",
        "plt.legend(['Valores previstos no treino', 'Valores originais'])"
      ],
      "metadata": {
        "colab": {
          "base_uri": "https://localhost:8080/",
          "height": 282
        },
        "id": "maEKkkESy9CQ",
        "outputId": "7dae2755-f980-4aed-98a8-51513a572206"
      },
      "execution_count": null,
      "outputs": [
        {
          "output_type": "execute_result",
          "data": {
            "text/plain": [
              "<matplotlib.legend.Legend at 0x7f2dc0b63b10>"
            ]
          },
          "metadata": {},
          "execution_count": 40
        },
        {
          "output_type": "display_data",
          "data": {
            "text/plain": [
              "<Figure size 432x288 with 1 Axes>"
            ],
            "image/png": "[encoded data removed]"
          },
          "metadata": {
            "needs_background": "light"
          }
        }
      ]
    },
    {
      "cell_type": "code",
      "source": [
        "val_predictions = model.predict(X_val).flatten()\n",
        "\n",
        "plt.plot(dates_val, val_predictions)\n",
        "plt.plot(dates_val, y_val)\n",
        "plt.legend(['Valores previstos na validação', 'Valores originais'])"
      ],
      "metadata": {
        "colab": {
          "base_uri": "https://localhost:8080/",
          "height": 282
        },
        "id": "oN3IW1W5zBQW",
        "outputId": "90c2bb89-98c7-4b0a-fa5f-6289b56a4a75"
      },
      "execution_count": null,
      "outputs": [
        {
          "output_type": "execute_result",
          "data": {
            "text/plain": [
              "<matplotlib.legend.Legend at 0x7f2dc0a91c50>"
            ]
          },
          "metadata": {},
          "execution_count": 41
        },
        {
          "output_type": "display_data",
          "data": {
            "text/plain": [
              "<Figure size 432x288 with 1 Axes>"
            ],
            "image/png": "[encoded data removed]"
          },
          "metadata": {
            "needs_background": "light"
          }
        }
      ]
    },
    {
      "cell_type": "code",
      "source": [
        "test_predictions = model.predict(X_test).flatten()\n",
        "\n",
        "plt.plot(dates_test, test_predictions)\n",
        "plt.plot(dates_test, y_test)\n",
        "plt.legend(['Valores previstos no teste', 'Valores originais'])"
      ],
      "metadata": {
        "colab": {
          "base_uri": "https://localhost:8080/",
          "height": 282
        },
        "id": "Mxh3QDXezZph",
        "outputId": "8750aef6-ebe6-4665-8e02-8fda5269d3ee"
      },
      "execution_count": null,
      "outputs": [
        {
          "output_type": "execute_result",
          "data": {
            "text/plain": [
              "<matplotlib.legend.Legend at 0x7f2dc0a16d90>"
            ]
          },
          "metadata": {},
          "execution_count": 42
        },
        {
          "output_type": "display_data",
          "data": {
            "text/plain": [
              "<Figure size 432x288 with 1 Axes>"
            ],
            "image/png": "[encoded data removed]"
          },
          "metadata": {
            "needs_background": "light"
          }
        }
      ]
    },
    {
      "cell_type": "markdown",
      "source": [
        "Afim de facilitar a visualização, abaixo está plotado apenas o valor previsto no teste e os dados originais."
      ],
      "metadata": {
        "id": "iIshfA053IRa"
      }
    },
    {
      "cell_type": "code",
      "source": [
        "plt.plot(dates_train, y_train)\n",
        "plt.plot(dates_val, y_val)\n",
        "plt.plot(dates_test, test_predictions)\n",
        "plt.plot(dates_test, y_test)\n",
        "plt.legend(['Valores originais',\n",
        "            'Valores originaiss',\n",
        "            'Valores previstos no teste', \n",
        "            'Valores originais'])"
      ],
      "metadata": {
        "colab": {
          "base_uri": "https://localhost:8080/",
          "height": 282
        },
        "id": "NklfhKqZ3PAP",
        "outputId": "d98bf391-e8d1-4afb-f002-19f628baa963"
      },
      "execution_count": null,
      "outputs": [
        {
          "output_type": "execute_result",
          "data": {
            "text/plain": [
              "<matplotlib.legend.Legend at 0x7f2dc0b43dd0>"
            ]
          },
          "metadata": {},
          "execution_count": 43
        },
        {
          "output_type": "display_data",
          "data": {
            "text/plain": [
              "<Figure size 432x288 with 1 Axes>"
            ],
            "image/png": "[encoded data removed]"
          },
          "metadata": {
            "needs_background": "light"
          }
        }
      ]
    },
    {
      "cell_type": "markdown",
      "source": [
        "A partir da análise do gráfico acima percebemos que na eventualidade da cotação estar abaixo da linha \"Valores previstos no teste\" é interessante realizar a compra e muito acima disso realizar a venda, já que pela média histórica do preço dela o preço tenderá a ficar próximo deste valor."
      ],
      "metadata": {
        "id": "yqU3mHEc4K_Q"
      }
    }
  ]
}